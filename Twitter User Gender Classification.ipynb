{
 "cells": [
  {
   "cell_type": "markdown",
   "metadata": {},
   "source": [
    "# TWITTER USER GENDER CLASSIFICATION"
   ]
  },
  {
   "cell_type": "markdown",
   "metadata": {},
   "source": [
    "## IMPORT INITIAL LIBRARIES"
   ]
  },
  {
   "cell_type": "code",
   "execution_count": 1,
   "metadata": {},
   "outputs": [],
   "source": [
    "import pandas as pd\n",
    "import numpy as np\n",
    "import matplotlib.pyplot as plt\n",
    "import seaborn as sns\n",
    "import string\n",
    "import matplotlib\n",
    "%matplotlib inline  "
   ]
  },
  {
   "cell_type": "markdown",
   "metadata": {},
   "source": [
    "## Importing natural language tool kit. "
   ]
  },
  {
   "cell_type": "code",
   "execution_count": 2,
   "metadata": {},
   "outputs": [
    {
     "name": "stderr",
     "output_type": "stream",
     "text": [
      "[nltk_data] Downloading package wordnet to /Users/fjacobo/nltk_data...\n",
      "[nltk_data]   Package wordnet is already up-to-date!\n"
     ]
    }
   ],
   "source": [
    "import re\n",
    "import nltk # natural language tool kit\n",
    "nltk.download(\"wordnet\")      # Download it to corpus file\n",
    "from nltk.corpus import stopwords  # And import it from corpus file \n",
    "#from nltk.corpus import stopwords  # And import it from corpus file \n",
    "\n",
    "import nltk as nlp\n",
    "lemma = nlp.WordNetLemmatizer()\n",
    "\n",
    "from nltk.stem.porter import PorterStemmer\n",
    "ps = PorterStemmer()"
   ]
  },
  {
   "cell_type": "markdown",
   "metadata": {},
   "source": [
    "# UPLOAD THE DATA"
   ]
  },
  {
   "cell_type": "code",
   "execution_count": 3,
   "metadata": {},
   "outputs": [
    {
     "data": {
      "text/html": [
       "<div>\n",
       "<style scoped>\n",
       "    .dataframe tbody tr th:only-of-type {\n",
       "        vertical-align: middle;\n",
       "    }\n",
       "\n",
       "    .dataframe tbody tr th {\n",
       "        vertical-align: top;\n",
       "    }\n",
       "\n",
       "    .dataframe thead th {\n",
       "        text-align: right;\n",
       "    }\n",
       "</style>\n",
       "<table border=\"1\" class=\"dataframe\">\n",
       "  <thead>\n",
       "    <tr style=\"text-align: right;\">\n",
       "      <th></th>\n",
       "      <th>_unit_id</th>\n",
       "      <th>_golden</th>\n",
       "      <th>_unit_state</th>\n",
       "      <th>_trusted_judgments</th>\n",
       "      <th>_last_judgment_at</th>\n",
       "      <th>gender</th>\n",
       "      <th>gender:confidence</th>\n",
       "      <th>profile_yn</th>\n",
       "      <th>profile_yn:confidence</th>\n",
       "      <th>created</th>\n",
       "      <th>...</th>\n",
       "      <th>profileimage</th>\n",
       "      <th>retweet_count</th>\n",
       "      <th>sidebar_color</th>\n",
       "      <th>text</th>\n",
       "      <th>tweet_coord</th>\n",
       "      <th>tweet_count</th>\n",
       "      <th>tweet_created</th>\n",
       "      <th>tweet_id</th>\n",
       "      <th>tweet_location</th>\n",
       "      <th>user_timezone</th>\n",
       "    </tr>\n",
       "  </thead>\n",
       "  <tbody>\n",
       "    <tr>\n",
       "      <td>0</td>\n",
       "      <td>815719226</td>\n",
       "      <td>False</td>\n",
       "      <td>finalized</td>\n",
       "      <td>3</td>\n",
       "      <td>10/26/15 23:24</td>\n",
       "      <td>male</td>\n",
       "      <td>1.0000</td>\n",
       "      <td>yes</td>\n",
       "      <td>1.0</td>\n",
       "      <td>12/5/13 1:48</td>\n",
       "      <td>...</td>\n",
       "      <td>https://pbs.twimg.com/profile_images/414342229...</td>\n",
       "      <td>0</td>\n",
       "      <td>FFFFFF</td>\n",
       "      <td>Robbie E Responds To Critics After Win Against...</td>\n",
       "      <td>NaN</td>\n",
       "      <td>110964</td>\n",
       "      <td>10/26/15 12:40</td>\n",
       "      <td>6.587300e+17</td>\n",
       "      <td>main; @Kan1shk3</td>\n",
       "      <td>Chennai</td>\n",
       "    </tr>\n",
       "    <tr>\n",
       "      <td>1</td>\n",
       "      <td>815719227</td>\n",
       "      <td>False</td>\n",
       "      <td>finalized</td>\n",
       "      <td>3</td>\n",
       "      <td>10/26/15 23:30</td>\n",
       "      <td>male</td>\n",
       "      <td>1.0000</td>\n",
       "      <td>yes</td>\n",
       "      <td>1.0</td>\n",
       "      <td>10/1/12 13:51</td>\n",
       "      <td>...</td>\n",
       "      <td>https://pbs.twimg.com/profile_images/539604221...</td>\n",
       "      <td>0</td>\n",
       "      <td>C0DEED</td>\n",
       "      <td>ÛÏIt felt like they were my friends and I was...</td>\n",
       "      <td>NaN</td>\n",
       "      <td>7471</td>\n",
       "      <td>10/26/15 12:40</td>\n",
       "      <td>6.587300e+17</td>\n",
       "      <td>NaN</td>\n",
       "      <td>Eastern Time (US &amp; Canada)</td>\n",
       "    </tr>\n",
       "    <tr>\n",
       "      <td>2</td>\n",
       "      <td>815719228</td>\n",
       "      <td>False</td>\n",
       "      <td>finalized</td>\n",
       "      <td>3</td>\n",
       "      <td>10/26/15 23:33</td>\n",
       "      <td>male</td>\n",
       "      <td>0.6625</td>\n",
       "      <td>yes</td>\n",
       "      <td>1.0</td>\n",
       "      <td>11/28/14 11:30</td>\n",
       "      <td>...</td>\n",
       "      <td>https://pbs.twimg.com/profile_images/657330418...</td>\n",
       "      <td>1</td>\n",
       "      <td>C0DEED</td>\n",
       "      <td>i absolutely adore when louis starts the songs...</td>\n",
       "      <td>NaN</td>\n",
       "      <td>5617</td>\n",
       "      <td>10/26/15 12:40</td>\n",
       "      <td>6.587300e+17</td>\n",
       "      <td>clcncl</td>\n",
       "      <td>Belgrade</td>\n",
       "    </tr>\n",
       "    <tr>\n",
       "      <td>3</td>\n",
       "      <td>815719229</td>\n",
       "      <td>False</td>\n",
       "      <td>finalized</td>\n",
       "      <td>3</td>\n",
       "      <td>10/26/15 23:10</td>\n",
       "      <td>male</td>\n",
       "      <td>1.0000</td>\n",
       "      <td>yes</td>\n",
       "      <td>1.0</td>\n",
       "      <td>6/11/09 22:39</td>\n",
       "      <td>...</td>\n",
       "      <td>https://pbs.twimg.com/profile_images/259703936...</td>\n",
       "      <td>0</td>\n",
       "      <td>C0DEED</td>\n",
       "      <td>Hi @JordanSpieth - Looking at the url - do you...</td>\n",
       "      <td>NaN</td>\n",
       "      <td>1693</td>\n",
       "      <td>10/26/15 12:40</td>\n",
       "      <td>6.587300e+17</td>\n",
       "      <td>Palo Alto, CA</td>\n",
       "      <td>Pacific Time (US &amp; Canada)</td>\n",
       "    </tr>\n",
       "    <tr>\n",
       "      <td>4</td>\n",
       "      <td>815719230</td>\n",
       "      <td>False</td>\n",
       "      <td>finalized</td>\n",
       "      <td>3</td>\n",
       "      <td>10/27/15 1:15</td>\n",
       "      <td>female</td>\n",
       "      <td>1.0000</td>\n",
       "      <td>yes</td>\n",
       "      <td>1.0</td>\n",
       "      <td>4/16/14 13:23</td>\n",
       "      <td>...</td>\n",
       "      <td>https://pbs.twimg.com/profile_images/564094871...</td>\n",
       "      <td>0</td>\n",
       "      <td>0</td>\n",
       "      <td>Watching Neighbours on Sky+ catching up with t...</td>\n",
       "      <td>NaN</td>\n",
       "      <td>31462</td>\n",
       "      <td>10/26/15 12:40</td>\n",
       "      <td>6.587300e+17</td>\n",
       "      <td>NaN</td>\n",
       "      <td>NaN</td>\n",
       "    </tr>\n",
       "  </tbody>\n",
       "</table>\n",
       "<p>5 rows × 26 columns</p>\n",
       "</div>"
      ],
      "text/plain": [
       "    _unit_id  _golden _unit_state  _trusted_judgments _last_judgment_at  \\\n",
       "0  815719226    False   finalized                   3    10/26/15 23:24   \n",
       "1  815719227    False   finalized                   3    10/26/15 23:30   \n",
       "2  815719228    False   finalized                   3    10/26/15 23:33   \n",
       "3  815719229    False   finalized                   3    10/26/15 23:10   \n",
       "4  815719230    False   finalized                   3     10/27/15 1:15   \n",
       "\n",
       "   gender  gender:confidence profile_yn  profile_yn:confidence  \\\n",
       "0    male             1.0000        yes                    1.0   \n",
       "1    male             1.0000        yes                    1.0   \n",
       "2    male             0.6625        yes                    1.0   \n",
       "3    male             1.0000        yes                    1.0   \n",
       "4  female             1.0000        yes                    1.0   \n",
       "\n",
       "          created  ...                                       profileimage  \\\n",
       "0    12/5/13 1:48  ...  https://pbs.twimg.com/profile_images/414342229...   \n",
       "1   10/1/12 13:51  ...  https://pbs.twimg.com/profile_images/539604221...   \n",
       "2  11/28/14 11:30  ...  https://pbs.twimg.com/profile_images/657330418...   \n",
       "3   6/11/09 22:39  ...  https://pbs.twimg.com/profile_images/259703936...   \n",
       "4   4/16/14 13:23  ...  https://pbs.twimg.com/profile_images/564094871...   \n",
       "\n",
       "   retweet_count sidebar_color  \\\n",
       "0              0        FFFFFF   \n",
       "1              0        C0DEED   \n",
       "2              1        C0DEED   \n",
       "3              0        C0DEED   \n",
       "4              0             0   \n",
       "\n",
       "                                                text tweet_coord tweet_count  \\\n",
       "0  Robbie E Responds To Critics After Win Against...         NaN      110964   \n",
       "1  ÛÏIt felt like they were my friends and I was...         NaN        7471   \n",
       "2  i absolutely adore when louis starts the songs...         NaN        5617   \n",
       "3  Hi @JordanSpieth - Looking at the url - do you...         NaN        1693   \n",
       "4  Watching Neighbours on Sky+ catching up with t...         NaN       31462   \n",
       "\n",
       "    tweet_created      tweet_id   tweet_location               user_timezone  \n",
       "0  10/26/15 12:40  6.587300e+17  main; @Kan1shk3                     Chennai  \n",
       "1  10/26/15 12:40  6.587300e+17              NaN  Eastern Time (US & Canada)  \n",
       "2  10/26/15 12:40  6.587300e+17           clcncl                    Belgrade  \n",
       "3  10/26/15 12:40  6.587300e+17    Palo Alto, CA  Pacific Time (US & Canada)  \n",
       "4  10/26/15 12:40  6.587300e+17              NaN                         NaN  \n",
       "\n",
       "[5 rows x 26 columns]"
      ]
     },
     "execution_count": 3,
     "metadata": {},
     "output_type": "execute_result"
    }
   ],
   "source": [
    "df = pd.read_csv('twitter.csv', encoding='latin1')\n",
    "df.head()"
   ]
  },
  {
   "cell_type": "markdown",
   "metadata": {},
   "source": [
    "#### Data has 26 columns and 20,050 rows\n",
    "    "
   ]
  },
  {
   "cell_type": "code",
   "execution_count": 4,
   "metadata": {},
   "outputs": [
    {
     "data": {
      "text/plain": [
       "(20050, 26)"
      ]
     },
     "execution_count": 4,
     "metadata": {},
     "output_type": "execute_result"
    }
   ],
   "source": [
    "df.shape"
   ]
  },
  {
   "cell_type": "markdown",
   "metadata": {},
   "source": [
    "#### Getting info from data Data Type and Null count"
   ]
  },
  {
   "cell_type": "code",
   "execution_count": 5,
   "metadata": {},
   "outputs": [
    {
     "name": "stdout",
     "output_type": "stream",
     "text": [
      "<class 'pandas.core.frame.DataFrame'>\n",
      "RangeIndex: 20050 entries, 0 to 20049\n",
      "Data columns (total 26 columns):\n",
      "_unit_id                 20050 non-null int64\n",
      "_golden                  20050 non-null bool\n",
      "_unit_state              20050 non-null object\n",
      "_trusted_judgments       20050 non-null int64\n",
      "_last_judgment_at        20000 non-null object\n",
      "gender                   19953 non-null object\n",
      "gender:confidence        20024 non-null float64\n",
      "profile_yn               20050 non-null object\n",
      "profile_yn:confidence    20050 non-null float64\n",
      "created                  20050 non-null object\n",
      "description              16306 non-null object\n",
      "fav_number               20050 non-null int64\n",
      "gender_gold              50 non-null object\n",
      "link_color               20050 non-null object\n",
      "name                     20050 non-null object\n",
      "profile_yn_gold          50 non-null object\n",
      "profileimage             20050 non-null object\n",
      "retweet_count            20050 non-null int64\n",
      "sidebar_color            20050 non-null object\n",
      "text                     20050 non-null object\n",
      "tweet_coord              159 non-null object\n",
      "tweet_count              20050 non-null int64\n",
      "tweet_created            20050 non-null object\n",
      "tweet_id                 20050 non-null float64\n",
      "tweet_location           12566 non-null object\n",
      "user_timezone            12252 non-null object\n",
      "dtypes: bool(1), float64(3), int64(5), object(17)\n",
      "memory usage: 3.8+ MB\n"
     ]
    }
   ],
   "source": [
    "df.info()"
   ]
  },
  {
   "cell_type": "markdown",
   "metadata": {},
   "source": [
    "#### Statistical Results of Data set"
   ]
  },
  {
   "cell_type": "code",
   "execution_count": 6,
   "metadata": {},
   "outputs": [
    {
     "data": {
      "text/html": [
       "<div>\n",
       "<style scoped>\n",
       "    .dataframe tbody tr th:only-of-type {\n",
       "        vertical-align: middle;\n",
       "    }\n",
       "\n",
       "    .dataframe tbody tr th {\n",
       "        vertical-align: top;\n",
       "    }\n",
       "\n",
       "    .dataframe thead th {\n",
       "        text-align: right;\n",
       "    }\n",
       "</style>\n",
       "<table border=\"1\" class=\"dataframe\">\n",
       "  <thead>\n",
       "    <tr style=\"text-align: right;\">\n",
       "      <th></th>\n",
       "      <th>_unit_id</th>\n",
       "      <th>_trusted_judgments</th>\n",
       "      <th>gender:confidence</th>\n",
       "      <th>profile_yn:confidence</th>\n",
       "      <th>fav_number</th>\n",
       "      <th>retweet_count</th>\n",
       "      <th>tweet_count</th>\n",
       "      <th>tweet_id</th>\n",
       "    </tr>\n",
       "  </thead>\n",
       "  <tbody>\n",
       "    <tr>\n",
       "      <td>count</td>\n",
       "      <td>2.005000e+04</td>\n",
       "      <td>20050.000000</td>\n",
       "      <td>20024.000000</td>\n",
       "      <td>20050.000000</td>\n",
       "      <td>20050.000000</td>\n",
       "      <td>20050.000000</td>\n",
       "      <td>2.005000e+04</td>\n",
       "      <td>2.005000e+04</td>\n",
       "    </tr>\n",
       "    <tr>\n",
       "      <td>mean</td>\n",
       "      <td>8.157294e+08</td>\n",
       "      <td>3.615711</td>\n",
       "      <td>0.882756</td>\n",
       "      <td>0.993221</td>\n",
       "      <td>4382.201646</td>\n",
       "      <td>0.079401</td>\n",
       "      <td>3.892469e+04</td>\n",
       "      <td>6.587350e+17</td>\n",
       "    </tr>\n",
       "    <tr>\n",
       "      <td>std</td>\n",
       "      <td>6.000801e+03</td>\n",
       "      <td>12.331890</td>\n",
       "      <td>0.191403</td>\n",
       "      <td>0.047168</td>\n",
       "      <td>12518.575919</td>\n",
       "      <td>2.649751</td>\n",
       "      <td>1.168371e+05</td>\n",
       "      <td>5.000124e+12</td>\n",
       "    </tr>\n",
       "    <tr>\n",
       "      <td>min</td>\n",
       "      <td>8.157192e+08</td>\n",
       "      <td>3.000000</td>\n",
       "      <td>0.000000</td>\n",
       "      <td>0.627200</td>\n",
       "      <td>0.000000</td>\n",
       "      <td>0.000000</td>\n",
       "      <td>1.000000e+00</td>\n",
       "      <td>6.587300e+17</td>\n",
       "    </tr>\n",
       "    <tr>\n",
       "      <td>25%</td>\n",
       "      <td>8.157243e+08</td>\n",
       "      <td>3.000000</td>\n",
       "      <td>0.677800</td>\n",
       "      <td>1.000000</td>\n",
       "      <td>11.000000</td>\n",
       "      <td>0.000000</td>\n",
       "      <td>2.398000e+03</td>\n",
       "      <td>6.587300e+17</td>\n",
       "    </tr>\n",
       "    <tr>\n",
       "      <td>50%</td>\n",
       "      <td>8.157294e+08</td>\n",
       "      <td>3.000000</td>\n",
       "      <td>1.000000</td>\n",
       "      <td>1.000000</td>\n",
       "      <td>456.000000</td>\n",
       "      <td>0.000000</td>\n",
       "      <td>1.144150e+04</td>\n",
       "      <td>6.587300e+17</td>\n",
       "    </tr>\n",
       "    <tr>\n",
       "      <td>75%</td>\n",
       "      <td>8.157345e+08</td>\n",
       "      <td>3.000000</td>\n",
       "      <td>1.000000</td>\n",
       "      <td>1.000000</td>\n",
       "      <td>3315.500000</td>\n",
       "      <td>0.000000</td>\n",
       "      <td>4.002750e+04</td>\n",
       "      <td>6.587400e+17</td>\n",
       "    </tr>\n",
       "    <tr>\n",
       "      <td>max</td>\n",
       "      <td>8.157580e+08</td>\n",
       "      <td>274.000000</td>\n",
       "      <td>1.000000</td>\n",
       "      <td>1.000000</td>\n",
       "      <td>341621.000000</td>\n",
       "      <td>330.000000</td>\n",
       "      <td>2.680199e+06</td>\n",
       "      <td>6.587400e+17</td>\n",
       "    </tr>\n",
       "  </tbody>\n",
       "</table>\n",
       "</div>"
      ],
      "text/plain": [
       "           _unit_id  _trusted_judgments  gender:confidence  \\\n",
       "count  2.005000e+04        20050.000000       20024.000000   \n",
       "mean   8.157294e+08            3.615711           0.882756   \n",
       "std    6.000801e+03           12.331890           0.191403   \n",
       "min    8.157192e+08            3.000000           0.000000   \n",
       "25%    8.157243e+08            3.000000           0.677800   \n",
       "50%    8.157294e+08            3.000000           1.000000   \n",
       "75%    8.157345e+08            3.000000           1.000000   \n",
       "max    8.157580e+08          274.000000           1.000000   \n",
       "\n",
       "       profile_yn:confidence     fav_number  retweet_count   tweet_count  \\\n",
       "count           20050.000000   20050.000000   20050.000000  2.005000e+04   \n",
       "mean                0.993221    4382.201646       0.079401  3.892469e+04   \n",
       "std                 0.047168   12518.575919       2.649751  1.168371e+05   \n",
       "min                 0.627200       0.000000       0.000000  1.000000e+00   \n",
       "25%                 1.000000      11.000000       0.000000  2.398000e+03   \n",
       "50%                 1.000000     456.000000       0.000000  1.144150e+04   \n",
       "75%                 1.000000    3315.500000       0.000000  4.002750e+04   \n",
       "max                 1.000000  341621.000000     330.000000  2.680199e+06   \n",
       "\n",
       "           tweet_id  \n",
       "count  2.005000e+04  \n",
       "mean   6.587350e+17  \n",
       "std    5.000124e+12  \n",
       "min    6.587300e+17  \n",
       "25%    6.587300e+17  \n",
       "50%    6.587300e+17  \n",
       "75%    6.587400e+17  \n",
       "max    6.587400e+17  "
      ]
     },
     "execution_count": 6,
     "metadata": {},
     "output_type": "execute_result"
    }
   ],
   "source": [
    "df.describe()"
   ]
  },
  {
   "cell_type": "markdown",
   "metadata": {},
   "source": [
    "#### Looking at gender column value counts"
   ]
  },
  {
   "cell_type": "code",
   "execution_count": 7,
   "metadata": {},
   "outputs": [
    {
     "data": {
      "text/plain": [
       "female     6700\n",
       "male       6194\n",
       "brand      5942\n",
       "unknown    1117\n",
       "Name: gender, dtype: int64"
      ]
     },
     "execution_count": 7,
     "metadata": {},
     "output_type": "execute_result"
    }
   ],
   "source": [
    "df.gender.value_counts()"
   ]
  },
  {
   "cell_type": "markdown",
   "metadata": {},
   "source": [
    "#### There are Female, Male, Brand and Unknown values in the gender column\n",
    "#### We will try to predict only if user is Female or Male\n",
    "#### Now we will drop Brand and Unknown from gender column"
   ]
  },
  {
   "cell_type": "code",
   "execution_count": 8,
   "metadata": {},
   "outputs": [],
   "source": [
    "df = df[(df.gender != 'brand') & (df.gender != 'unknown')]"
   ]
  },
  {
   "cell_type": "code",
   "execution_count": 9,
   "metadata": {},
   "outputs": [
    {
     "data": {
      "text/plain": [
       "female    6700\n",
       "male      6194\n",
       "Name: gender, dtype: int64"
      ]
     },
     "execution_count": 9,
     "metadata": {},
     "output_type": "execute_result"
    }
   ],
   "source": [
    "df.gender.value_counts()"
   ]
  },
  {
   "cell_type": "markdown",
   "metadata": {},
   "source": [
    "#### Now data set has 12,991 rows and 26 columns instead of 20,050 rows and 26 columns"
   ]
  },
  {
   "cell_type": "code",
   "execution_count": 10,
   "metadata": {},
   "outputs": [
    {
     "data": {
      "text/plain": [
       "(12991, 26)"
      ]
     },
     "execution_count": 10,
     "metadata": {},
     "output_type": "execute_result"
    }
   ],
   "source": [
    "df.shape"
   ]
  },
  {
   "cell_type": "markdown",
   "metadata": {},
   "source": [
    "#### Checking every columns to see if it is suppose to be numerical True and not numerical is false"
   ]
  },
  {
   "cell_type": "code",
   "execution_count": 11,
   "metadata": {},
   "outputs": [
    {
     "data": {
      "text/html": [
       "<div>\n",
       "<style scoped>\n",
       "    .dataframe tbody tr th:only-of-type {\n",
       "        vertical-align: middle;\n",
       "    }\n",
       "\n",
       "    .dataframe tbody tr th {\n",
       "        vertical-align: top;\n",
       "    }\n",
       "\n",
       "    .dataframe thead th {\n",
       "        text-align: right;\n",
       "    }\n",
       "</style>\n",
       "<table border=\"1\" class=\"dataframe\">\n",
       "  <thead>\n",
       "    <tr style=\"text-align: right;\">\n",
       "      <th></th>\n",
       "      <th>_unit_id</th>\n",
       "      <th>_golden</th>\n",
       "      <th>_unit_state</th>\n",
       "      <th>_trusted_judgments</th>\n",
       "      <th>_last_judgment_at</th>\n",
       "      <th>gender</th>\n",
       "      <th>gender:confidence</th>\n",
       "      <th>profile_yn</th>\n",
       "      <th>profile_yn:confidence</th>\n",
       "      <th>created</th>\n",
       "      <th>...</th>\n",
       "      <th>profileimage</th>\n",
       "      <th>retweet_count</th>\n",
       "      <th>sidebar_color</th>\n",
       "      <th>text</th>\n",
       "      <th>tweet_coord</th>\n",
       "      <th>tweet_count</th>\n",
       "      <th>tweet_created</th>\n",
       "      <th>tweet_id</th>\n",
       "      <th>tweet_location</th>\n",
       "      <th>user_timezone</th>\n",
       "    </tr>\n",
       "  </thead>\n",
       "  <tbody>\n",
       "    <tr>\n",
       "      <td>0</td>\n",
       "      <td>True</td>\n",
       "      <td>True</td>\n",
       "      <td>False</td>\n",
       "      <td>True</td>\n",
       "      <td>False</td>\n",
       "      <td>False</td>\n",
       "      <td>True</td>\n",
       "      <td>False</td>\n",
       "      <td>True</td>\n",
       "      <td>False</td>\n",
       "      <td>...</td>\n",
       "      <td>False</td>\n",
       "      <td>True</td>\n",
       "      <td>False</td>\n",
       "      <td>False</td>\n",
       "      <td>True</td>\n",
       "      <td>True</td>\n",
       "      <td>False</td>\n",
       "      <td>True</td>\n",
       "      <td>False</td>\n",
       "      <td>False</td>\n",
       "    </tr>\n",
       "    <tr>\n",
       "      <td>1</td>\n",
       "      <td>True</td>\n",
       "      <td>True</td>\n",
       "      <td>False</td>\n",
       "      <td>True</td>\n",
       "      <td>False</td>\n",
       "      <td>False</td>\n",
       "      <td>True</td>\n",
       "      <td>False</td>\n",
       "      <td>True</td>\n",
       "      <td>False</td>\n",
       "      <td>...</td>\n",
       "      <td>False</td>\n",
       "      <td>True</td>\n",
       "      <td>False</td>\n",
       "      <td>False</td>\n",
       "      <td>True</td>\n",
       "      <td>True</td>\n",
       "      <td>False</td>\n",
       "      <td>True</td>\n",
       "      <td>True</td>\n",
       "      <td>False</td>\n",
       "    </tr>\n",
       "    <tr>\n",
       "      <td>2</td>\n",
       "      <td>True</td>\n",
       "      <td>True</td>\n",
       "      <td>False</td>\n",
       "      <td>True</td>\n",
       "      <td>False</td>\n",
       "      <td>False</td>\n",
       "      <td>True</td>\n",
       "      <td>False</td>\n",
       "      <td>True</td>\n",
       "      <td>False</td>\n",
       "      <td>...</td>\n",
       "      <td>False</td>\n",
       "      <td>True</td>\n",
       "      <td>False</td>\n",
       "      <td>False</td>\n",
       "      <td>True</td>\n",
       "      <td>True</td>\n",
       "      <td>False</td>\n",
       "      <td>True</td>\n",
       "      <td>False</td>\n",
       "      <td>False</td>\n",
       "    </tr>\n",
       "    <tr>\n",
       "      <td>3</td>\n",
       "      <td>True</td>\n",
       "      <td>True</td>\n",
       "      <td>False</td>\n",
       "      <td>True</td>\n",
       "      <td>False</td>\n",
       "      <td>False</td>\n",
       "      <td>True</td>\n",
       "      <td>False</td>\n",
       "      <td>True</td>\n",
       "      <td>False</td>\n",
       "      <td>...</td>\n",
       "      <td>False</td>\n",
       "      <td>True</td>\n",
       "      <td>False</td>\n",
       "      <td>False</td>\n",
       "      <td>True</td>\n",
       "      <td>True</td>\n",
       "      <td>False</td>\n",
       "      <td>True</td>\n",
       "      <td>False</td>\n",
       "      <td>False</td>\n",
       "    </tr>\n",
       "    <tr>\n",
       "      <td>4</td>\n",
       "      <td>True</td>\n",
       "      <td>True</td>\n",
       "      <td>False</td>\n",
       "      <td>True</td>\n",
       "      <td>False</td>\n",
       "      <td>False</td>\n",
       "      <td>True</td>\n",
       "      <td>False</td>\n",
       "      <td>True</td>\n",
       "      <td>False</td>\n",
       "      <td>...</td>\n",
       "      <td>False</td>\n",
       "      <td>True</td>\n",
       "      <td>False</td>\n",
       "      <td>False</td>\n",
       "      <td>True</td>\n",
       "      <td>True</td>\n",
       "      <td>False</td>\n",
       "      <td>True</td>\n",
       "      <td>True</td>\n",
       "      <td>True</td>\n",
       "    </tr>\n",
       "    <tr>\n",
       "      <td>...</td>\n",
       "      <td>...</td>\n",
       "      <td>...</td>\n",
       "      <td>...</td>\n",
       "      <td>...</td>\n",
       "      <td>...</td>\n",
       "      <td>...</td>\n",
       "      <td>...</td>\n",
       "      <td>...</td>\n",
       "      <td>...</td>\n",
       "      <td>...</td>\n",
       "      <td>...</td>\n",
       "      <td>...</td>\n",
       "      <td>...</td>\n",
       "      <td>...</td>\n",
       "      <td>...</td>\n",
       "      <td>...</td>\n",
       "      <td>...</td>\n",
       "      <td>...</td>\n",
       "      <td>...</td>\n",
       "      <td>...</td>\n",
       "      <td>...</td>\n",
       "    </tr>\n",
       "    <tr>\n",
       "      <td>20045</td>\n",
       "      <td>True</td>\n",
       "      <td>True</td>\n",
       "      <td>False</td>\n",
       "      <td>True</td>\n",
       "      <td>True</td>\n",
       "      <td>False</td>\n",
       "      <td>True</td>\n",
       "      <td>False</td>\n",
       "      <td>True</td>\n",
       "      <td>False</td>\n",
       "      <td>...</td>\n",
       "      <td>False</td>\n",
       "      <td>True</td>\n",
       "      <td>False</td>\n",
       "      <td>False</td>\n",
       "      <td>True</td>\n",
       "      <td>True</td>\n",
       "      <td>False</td>\n",
       "      <td>True</td>\n",
       "      <td>False</td>\n",
       "      <td>True</td>\n",
       "    </tr>\n",
       "    <tr>\n",
       "      <td>20046</td>\n",
       "      <td>True</td>\n",
       "      <td>True</td>\n",
       "      <td>False</td>\n",
       "      <td>True</td>\n",
       "      <td>True</td>\n",
       "      <td>False</td>\n",
       "      <td>True</td>\n",
       "      <td>False</td>\n",
       "      <td>True</td>\n",
       "      <td>False</td>\n",
       "      <td>...</td>\n",
       "      <td>False</td>\n",
       "      <td>True</td>\n",
       "      <td>False</td>\n",
       "      <td>False</td>\n",
       "      <td>True</td>\n",
       "      <td>True</td>\n",
       "      <td>False</td>\n",
       "      <td>True</td>\n",
       "      <td>False</td>\n",
       "      <td>True</td>\n",
       "    </tr>\n",
       "    <tr>\n",
       "      <td>20047</td>\n",
       "      <td>True</td>\n",
       "      <td>True</td>\n",
       "      <td>False</td>\n",
       "      <td>True</td>\n",
       "      <td>True</td>\n",
       "      <td>False</td>\n",
       "      <td>True</td>\n",
       "      <td>False</td>\n",
       "      <td>True</td>\n",
       "      <td>False</td>\n",
       "      <td>...</td>\n",
       "      <td>False</td>\n",
       "      <td>True</td>\n",
       "      <td>False</td>\n",
       "      <td>False</td>\n",
       "      <td>True</td>\n",
       "      <td>True</td>\n",
       "      <td>False</td>\n",
       "      <td>True</td>\n",
       "      <td>False</td>\n",
       "      <td>True</td>\n",
       "    </tr>\n",
       "    <tr>\n",
       "      <td>20048</td>\n",
       "      <td>True</td>\n",
       "      <td>True</td>\n",
       "      <td>False</td>\n",
       "      <td>True</td>\n",
       "      <td>True</td>\n",
       "      <td>False</td>\n",
       "      <td>True</td>\n",
       "      <td>False</td>\n",
       "      <td>True</td>\n",
       "      <td>False</td>\n",
       "      <td>...</td>\n",
       "      <td>False</td>\n",
       "      <td>True</td>\n",
       "      <td>False</td>\n",
       "      <td>False</td>\n",
       "      <td>True</td>\n",
       "      <td>True</td>\n",
       "      <td>False</td>\n",
       "      <td>True</td>\n",
       "      <td>False</td>\n",
       "      <td>True</td>\n",
       "    </tr>\n",
       "    <tr>\n",
       "      <td>20049</td>\n",
       "      <td>True</td>\n",
       "      <td>True</td>\n",
       "      <td>False</td>\n",
       "      <td>True</td>\n",
       "      <td>True</td>\n",
       "      <td>False</td>\n",
       "      <td>True</td>\n",
       "      <td>False</td>\n",
       "      <td>True</td>\n",
       "      <td>False</td>\n",
       "      <td>...</td>\n",
       "      <td>False</td>\n",
       "      <td>True</td>\n",
       "      <td>False</td>\n",
       "      <td>False</td>\n",
       "      <td>True</td>\n",
       "      <td>True</td>\n",
       "      <td>False</td>\n",
       "      <td>True</td>\n",
       "      <td>True</td>\n",
       "      <td>True</td>\n",
       "    </tr>\n",
       "  </tbody>\n",
       "</table>\n",
       "<p>12991 rows × 26 columns</p>\n",
       "</div>"
      ],
      "text/plain": [
       "       _unit_id  _golden  _unit_state  _trusted_judgments  _last_judgment_at  \\\n",
       "0          True     True        False                True              False   \n",
       "1          True     True        False                True              False   \n",
       "2          True     True        False                True              False   \n",
       "3          True     True        False                True              False   \n",
       "4          True     True        False                True              False   \n",
       "...         ...      ...          ...                 ...                ...   \n",
       "20045      True     True        False                True               True   \n",
       "20046      True     True        False                True               True   \n",
       "20047      True     True        False                True               True   \n",
       "20048      True     True        False                True               True   \n",
       "20049      True     True        False                True               True   \n",
       "\n",
       "       gender  gender:confidence  profile_yn  profile_yn:confidence  created  \\\n",
       "0       False               True       False                   True    False   \n",
       "1       False               True       False                   True    False   \n",
       "2       False               True       False                   True    False   \n",
       "3       False               True       False                   True    False   \n",
       "4       False               True       False                   True    False   \n",
       "...       ...                ...         ...                    ...      ...   \n",
       "20045   False               True       False                   True    False   \n",
       "20046   False               True       False                   True    False   \n",
       "20047   False               True       False                   True    False   \n",
       "20048   False               True       False                   True    False   \n",
       "20049   False               True       False                   True    False   \n",
       "\n",
       "       ...  profileimage  retweet_count  sidebar_color   text  tweet_coord  \\\n",
       "0      ...         False           True          False  False         True   \n",
       "1      ...         False           True          False  False         True   \n",
       "2      ...         False           True          False  False         True   \n",
       "3      ...         False           True          False  False         True   \n",
       "4      ...         False           True          False  False         True   \n",
       "...    ...           ...            ...            ...    ...          ...   \n",
       "20045  ...         False           True          False  False         True   \n",
       "20046  ...         False           True          False  False         True   \n",
       "20047  ...         False           True          False  False         True   \n",
       "20048  ...         False           True          False  False         True   \n",
       "20049  ...         False           True          False  False         True   \n",
       "\n",
       "       tweet_count  tweet_created  tweet_id  tweet_location  user_timezone  \n",
       "0             True          False      True           False          False  \n",
       "1             True          False      True            True          False  \n",
       "2             True          False      True           False          False  \n",
       "3             True          False      True           False          False  \n",
       "4             True          False      True            True           True  \n",
       "...            ...            ...       ...             ...            ...  \n",
       "20045         True          False      True           False           True  \n",
       "20046         True          False      True           False           True  \n",
       "20047         True          False      True           False           True  \n",
       "20048         True          False      True           False           True  \n",
       "20049         True          False      True            True           True  \n",
       "\n",
       "[12991 rows x 26 columns]"
      ]
     },
     "execution_count": 11,
     "metadata": {},
     "output_type": "execute_result"
    }
   ],
   "source": [
    "df.applymap(np.isreal)"
   ]
  },
  {
   "cell_type": "markdown",
   "metadata": {},
   "source": [
    "#### Checking Corrolation"
   ]
  },
  {
   "cell_type": "code",
   "execution_count": 12,
   "metadata": {},
   "outputs": [
    {
     "data": {
      "text/html": [
       "<div>\n",
       "<style scoped>\n",
       "    .dataframe tbody tr th:only-of-type {\n",
       "        vertical-align: middle;\n",
       "    }\n",
       "\n",
       "    .dataframe tbody tr th {\n",
       "        vertical-align: top;\n",
       "    }\n",
       "\n",
       "    .dataframe thead th {\n",
       "        text-align: right;\n",
       "    }\n",
       "</style>\n",
       "<table border=\"1\" class=\"dataframe\">\n",
       "  <thead>\n",
       "    <tr style=\"text-align: right;\">\n",
       "      <th></th>\n",
       "      <th>_unit_id</th>\n",
       "      <th>_golden</th>\n",
       "      <th>_trusted_judgments</th>\n",
       "      <th>gender:confidence</th>\n",
       "      <th>profile_yn:confidence</th>\n",
       "      <th>fav_number</th>\n",
       "      <th>retweet_count</th>\n",
       "      <th>tweet_count</th>\n",
       "      <th>tweet_id</th>\n",
       "    </tr>\n",
       "  </thead>\n",
       "  <tbody>\n",
       "    <tr>\n",
       "      <td>_unit_id</td>\n",
       "      <td>1.000000</td>\n",
       "      <td>0.211045</td>\n",
       "      <td>0.210778</td>\n",
       "      <td>-0.002220</td>\n",
       "      <td>0.018115</td>\n",
       "      <td>0.008866</td>\n",
       "      <td>0.008360</td>\n",
       "      <td>0.000381</td>\n",
       "      <td>0.852722</td>\n",
       "    </tr>\n",
       "    <tr>\n",
       "      <td>_golden</td>\n",
       "      <td>0.211045</td>\n",
       "      <td>1.000000</td>\n",
       "      <td>0.998888</td>\n",
       "      <td>0.010638</td>\n",
       "      <td>0.006473</td>\n",
       "      <td>0.007258</td>\n",
       "      <td>-0.001374</td>\n",
       "      <td>-0.012693</td>\n",
       "      <td>-0.004631</td>\n",
       "    </tr>\n",
       "    <tr>\n",
       "      <td>_trusted_judgments</td>\n",
       "      <td>0.210778</td>\n",
       "      <td>0.998888</td>\n",
       "      <td>1.000000</td>\n",
       "      <td>0.010779</td>\n",
       "      <td>0.006472</td>\n",
       "      <td>0.007290</td>\n",
       "      <td>-0.001412</td>\n",
       "      <td>-0.012696</td>\n",
       "      <td>-0.004502</td>\n",
       "    </tr>\n",
       "    <tr>\n",
       "      <td>gender:confidence</td>\n",
       "      <td>-0.002220</td>\n",
       "      <td>0.010638</td>\n",
       "      <td>0.010779</td>\n",
       "      <td>1.000000</td>\n",
       "      <td>0.391203</td>\n",
       "      <td>-0.040713</td>\n",
       "      <td>-0.001089</td>\n",
       "      <td>-0.059297</td>\n",
       "      <td>-0.001976</td>\n",
       "    </tr>\n",
       "    <tr>\n",
       "      <td>profile_yn:confidence</td>\n",
       "      <td>0.018115</td>\n",
       "      <td>0.006473</td>\n",
       "      <td>0.006472</td>\n",
       "      <td>0.391203</td>\n",
       "      <td>1.000000</td>\n",
       "      <td>-0.002178</td>\n",
       "      <td>0.000449</td>\n",
       "      <td>-0.038765</td>\n",
       "      <td>0.018934</td>\n",
       "    </tr>\n",
       "    <tr>\n",
       "      <td>fav_number</td>\n",
       "      <td>0.008866</td>\n",
       "      <td>0.007258</td>\n",
       "      <td>0.007290</td>\n",
       "      <td>-0.040713</td>\n",
       "      <td>-0.002178</td>\n",
       "      <td>1.000000</td>\n",
       "      <td>0.019424</td>\n",
       "      <td>0.177899</td>\n",
       "      <td>0.010473</td>\n",
       "    </tr>\n",
       "    <tr>\n",
       "      <td>retweet_count</td>\n",
       "      <td>0.008360</td>\n",
       "      <td>-0.001374</td>\n",
       "      <td>-0.001412</td>\n",
       "      <td>-0.001089</td>\n",
       "      <td>0.000449</td>\n",
       "      <td>0.019424</td>\n",
       "      <td>1.000000</td>\n",
       "      <td>0.004109</td>\n",
       "      <td>-0.004503</td>\n",
       "    </tr>\n",
       "    <tr>\n",
       "      <td>tweet_count</td>\n",
       "      <td>0.000381</td>\n",
       "      <td>-0.012693</td>\n",
       "      <td>-0.012696</td>\n",
       "      <td>-0.059297</td>\n",
       "      <td>-0.038765</td>\n",
       "      <td>0.177899</td>\n",
       "      <td>0.004109</td>\n",
       "      <td>1.000000</td>\n",
       "      <td>0.005103</td>\n",
       "    </tr>\n",
       "    <tr>\n",
       "      <td>tweet_id</td>\n",
       "      <td>0.852722</td>\n",
       "      <td>-0.004631</td>\n",
       "      <td>-0.004502</td>\n",
       "      <td>-0.001976</td>\n",
       "      <td>0.018934</td>\n",
       "      <td>0.010473</td>\n",
       "      <td>-0.004503</td>\n",
       "      <td>0.005103</td>\n",
       "      <td>1.000000</td>\n",
       "    </tr>\n",
       "  </tbody>\n",
       "</table>\n",
       "</div>"
      ],
      "text/plain": [
       "                       _unit_id   _golden  _trusted_judgments  \\\n",
       "_unit_id               1.000000  0.211045            0.210778   \n",
       "_golden                0.211045  1.000000            0.998888   \n",
       "_trusted_judgments     0.210778  0.998888            1.000000   \n",
       "gender:confidence     -0.002220  0.010638            0.010779   \n",
       "profile_yn:confidence  0.018115  0.006473            0.006472   \n",
       "fav_number             0.008866  0.007258            0.007290   \n",
       "retweet_count          0.008360 -0.001374           -0.001412   \n",
       "tweet_count            0.000381 -0.012693           -0.012696   \n",
       "tweet_id               0.852722 -0.004631           -0.004502   \n",
       "\n",
       "                       gender:confidence  profile_yn:confidence  fav_number  \\\n",
       "_unit_id                       -0.002220               0.018115    0.008866   \n",
       "_golden                         0.010638               0.006473    0.007258   \n",
       "_trusted_judgments              0.010779               0.006472    0.007290   \n",
       "gender:confidence               1.000000               0.391203   -0.040713   \n",
       "profile_yn:confidence           0.391203               1.000000   -0.002178   \n",
       "fav_number                     -0.040713              -0.002178    1.000000   \n",
       "retweet_count                  -0.001089               0.000449    0.019424   \n",
       "tweet_count                    -0.059297              -0.038765    0.177899   \n",
       "tweet_id                       -0.001976               0.018934    0.010473   \n",
       "\n",
       "                       retweet_count  tweet_count  tweet_id  \n",
       "_unit_id                    0.008360     0.000381  0.852722  \n",
       "_golden                    -0.001374    -0.012693 -0.004631  \n",
       "_trusted_judgments         -0.001412    -0.012696 -0.004502  \n",
       "gender:confidence          -0.001089    -0.059297 -0.001976  \n",
       "profile_yn:confidence       0.000449    -0.038765  0.018934  \n",
       "fav_number                  0.019424     0.177899  0.010473  \n",
       "retweet_count               1.000000     0.004109 -0.004503  \n",
       "tweet_count                 0.004109     1.000000  0.005103  \n",
       "tweet_id                   -0.004503     0.005103  1.000000  "
      ]
     },
     "execution_count": 12,
     "metadata": {},
     "output_type": "execute_result"
    }
   ],
   "source": [
    "df.corr()"
   ]
  },
  {
   "cell_type": "markdown",
   "metadata": {},
   "source": [
    "#### Visualization of Corrlation"
   ]
  },
  {
   "cell_type": "code",
   "execution_count": 13,
   "metadata": {},
   "outputs": [
    {
     "data": {
      "text/plain": [
       "<matplotlib.axes._subplots.AxesSubplot at 0x7fc550c0acd0>"
      ]
     },
     "execution_count": 13,
     "metadata": {},
     "output_type": "execute_result"
    },
    {
     "data": {
      "image/png": "[encoded data removed]",
      "text/plain": [
       "<Figure size 432x288 with 2 Axes>"
      ]
     },
     "metadata": {
      "needs_background": "light"
     },
     "output_type": "display_data"
    }
   ],
   "source": [
    "# We use seaborn to visualize\n",
    "corr_matrix = df.corr()\n",
    "sns.heatmap(data=corr_matrix, annot=True)"
   ]
  },
  {
   "cell_type": "markdown",
   "metadata": {},
   "source": [
    "## There is no significant corrolation between numerical data columns\n",
    "## We decided to use catogorical data to predict gender and used Description column.\n"
   ]
  },
  {
   "cell_type": "markdown",
   "metadata": {},
   "source": [
    "#### Using Concat to create gender and description columns to a new data"
   ]
  },
  {
   "cell_type": "code",
   "execution_count": 14,
   "metadata": {},
   "outputs": [
    {
     "name": "stdout",
     "output_type": "stream",
     "text": [
      "<class 'pandas.core.frame.DataFrame'>\n",
      "Int64Index: 12991 entries, 0 to 20049\n",
      "Data columns (total 2 columns):\n",
      "gender         12894 non-null object\n",
      "description    11276 non-null object\n",
      "dtypes: object(2)\n",
      "memory usage: 304.5+ KB\n",
      "None\n"
     ]
    }
   ],
   "source": [
    "df = pd.concat([df.gender,df.description],axis=1)\n",
    "print(df.info())"
   ]
  },
  {
   "cell_type": "markdown",
   "metadata": {},
   "source": [
    "#### Drop null values from new data set. And display new data set using .head() and .info()"
   ]
  },
  {
   "cell_type": "code",
   "execution_count": 15,
   "metadata": {},
   "outputs": [
    {
     "name": "stdout",
     "output_type": "stream",
     "text": [
      "   gender                                        description\n",
      "0       0                              i sing my own rhythm.\n",
      "1       0  I'm the author of novels filled with family dr...\n",
      "2       0                louis whining and squealing and all\n",
      "3       0  Mobile guy.  49ers, Shazam, Google, Kleiner Pe...\n",
      "4       1  Ricky Wilson The Best FRONTMAN/Kaiser Chiefs T...\n",
      "<class 'pandas.core.frame.DataFrame'>\n",
      "Int64Index: 11194 entries, 0 to 20049\n",
      "Data columns (total 2 columns):\n",
      "gender         11194 non-null int64\n",
      "description    11194 non-null object\n",
      "dtypes: int64(1), object(1)\n",
      "memory usage: 262.4+ KB\n",
      "None\n"
     ]
    }
   ],
   "source": [
    "df.dropna(axis = 0,inplace = True)\n",
    "df.gender = [1 if each == \"female\" else 0 for each in df.gender]\n",
    "print(df.head())\n",
    "print(df.info())"
   ]
  },
  {
   "cell_type": "markdown",
   "metadata": {},
   "source": [
    "#### Cleaning description data and create new list"
   ]
  },
  {
   "cell_type": "markdown",
   "metadata": {},
   "source": [
    "We used this code from kaggle but instead splitting words we used tokenizing\n",
    "Here is the link \n",
    "https://www.kaggle.com/evilport/classify-gender-with-description-and-text"
   ]
  },
  {
   "cell_type": "code",
   "execution_count": 16,
   "metadata": {},
   "outputs": [
    {
     "data": {
      "text/plain": [
       "['sing rhythm',\n",
       " 'author novel filled family drama romance',\n",
       " 'louis whining squealing',\n",
       " 'mobile guy er shazam google kleiner perkins yahoo sprint pc airtouch air force stanford gsb uva dad husband brother golfer',\n",
       " 'ricky wilson best frontman kaiser chief best band xxxx thank kaiser chief incredible year gig memory cherish always xxxxxxx']"
      ]
     },
     "execution_count": 16,
     "metadata": {},
     "output_type": "execute_result"
    }
   ],
   "source": [
    "description_list = []\n",
    "for description in df.description:\n",
    "    # regular expression RE for example \"[^a-zA-Z]\"\n",
    "    description = re.sub(\"[^a-zA-Z]\",\" \",description)\n",
    "    description = description.lower()   # convert capital letters to lowercase letters\n",
    "    # Instead of splitting description\n",
    "    # we used tokenizer \n",
    "    # if we use split for example words like \"shouldn't \" can not be split like \"should\" ve \"not\" but we can by using word_tokenize() \n",
    "    description = nltk.word_tokenize(description)\n",
    "    # stopwords (irrelavent words) \n",
    "    description = [ word for word in description if not word in set(stopwords.words(\"english\"))]\n",
    "    # lemmatazation loved => love   gone = > go\n",
    "    lemma = nlp.WordNetLemmatizer()\n",
    "    description = [ lemma.lemmatize(word) for word in description] #[ ps.stem(word) for word in description]\n",
    "    description = \" \".join(description)  # for vector we need string not list \n",
    "    description_list.append(description)\n",
    "description_list[0:5]"
   ]
  },
  {
   "cell_type": "code",
   "execution_count": 17,
   "metadata": {},
   "outputs": [
    {
     "data": {
      "text/plain": [
       "['sing rhythm',\n",
       " 'author novel filled family drama romance',\n",
       " 'louis whining squealing',\n",
       " 'mobile guy er shazam google kleiner perkins yahoo sprint pc airtouch air force stanford gsb uva dad husband brother golfer',\n",
       " 'ricky wilson best frontman kaiser chief best band xxxx thank kaiser chief incredible year gig memory cherish always xxxxxxx',\n",
       " 'know',\n",
       " 'secret getting ahead getting started',\n",
       " 'pll fan crazy mcd ramen bae',\n",
       " 'renaissance art historian university nottingham fuelled haribo partial coffee soft spot renaissance china national teaching fellow',\n",
       " 'senior xi xii mmxiv',\n",
       " 'im p bo burnham disney world',\n",
       " 'jmkm',\n",
       " 'enthusiastic f fan model collector music fan film fanatic also aspergian',\n",
       " 'artisan specializing paper mache print making fibre art art teacher cat devotee find page fb http co g bstg icv',\n",
       " 'bled died take away sin',\n",
       " 'union j xxxx',\n",
       " 'start',\n",
       " 'bsc economics graduate coys',\n",
       " 'wife coach mom eight troop follower christ',\n",
       " 'dm closed sc dear moonshine']"
      ]
     },
     "execution_count": 17,
     "metadata": {},
     "output_type": "execute_result"
    }
   ],
   "source": [
    "description_list[0:20]"
   ]
  },
  {
   "cell_type": "markdown",
   "metadata": {},
   "source": [
    "#### Creating bag of words\n",
    "#### We use CounterVectorizer to create bag of words"
   ]
  },
  {
   "cell_type": "markdown",
   "metadata": {},
   "source": [
    "we used this code from kaggle to create bag of words\n",
    "https://www.kaggle.com/bulentsiyah/nlp-basics-nltk-skipgram-cbow-reg-exp-stemmer"
   ]
  },
  {
   "cell_type": "code",
   "execution_count": 18,
   "metadata": {},
   "outputs": [
    {
     "name": "stdout",
     "output_type": "stream",
     "text": [
      "Some of most used 5000 words: ['aa', 'aaron', 'ab', 'abc', 'aberdeen', 'able', 'absolute', 'absolutely', 'absurdity', 'abt', 'abuse', 'ac', 'academic', 'academy', 'acc', 'accept', 'accepted', 'accepting', 'access', 'accessible', 'accident', 'accomplish', 'account', 'accountant', 'accounting', 'acct', 'ace', 'achieve', 'achieved', 'achievement', 'act', 'acting', 'action', 'active', 'activist', 'activity', 'actor', 'actress', 'actual', 'actually', 'ad', 'adalah', 'adam', 'add', 'added', 'addict', 'addicted', 'addiction', 'adjunct', 'admin', 'administration', 'administrator', 'admirer', 'admiro', 'adopted', 'adoption', 'adore', 'adoro', 'adult', 'advance', 'advanced', 'adventure', 'adventurer', 'adventurous', 'advertising', 'advice', 'advise', 'adviser', 'advisor', 'advocate', 'aesthetic', 'af', 'afc', 'affair', 'affiliate', 'affiliated', 'aficionado', 'afraid', 'africa', 'african', 'africana', 'afrikaans', 'afrikaner', 'afro', 'afternoon', 'ag', 'age', 'agency', 'agender', 'agent', 'agile', 'agnostic', 'ago', 'agree', 'agreement', 'ah', 'aha', 'ahead', 'ahs', 'ai']\n"
     ]
    }
   ],
   "source": [
    "from sklearn.feature_extraction.text import CountVectorizer # This is the method we use to create bag of words\n",
    "max_features = 5000 # Most used 5,000 words\n",
    "\n",
    "count_vectorizer = CountVectorizer(max_features=max_features, stop_words = \"english\")\n",
    "sparce_matrix = count_vectorizer.fit_transform(description_list).toarray()  \n",
    "print(\"Some of most used {} words: {}\".format(max_features,count_vectorizer.get_feature_names()[0:100]))\n",
    "#stop words- misses some important information that could be useful \"him\", acc- capturing segments of words \n",
    "\n",
    "y = df.iloc[:,0].values   # male or female classes\n",
    "x = sparce_matrix"
   ]
  },
  {
   "cell_type": "markdown",
   "metadata": {},
   "source": [
    "#### Visualize number of digits classes"
   ]
  },
  {
   "cell_type": "code",
   "execution_count": 19,
   "metadata": {},
   "outputs": [
    {
     "data": {
      "text/plain": [
       "Text(0.5, 1.0, 'male or female classes')"
      ]
     },
     "execution_count": 19,
     "metadata": {},
     "output_type": "execute_result"
    },
    {
     "data": {
      "image/png": "[encoded data removed]",
      "text/plain": [
       "<Figure size 720x720 with 1 Axes>"
      ]
     },
     "metadata": {
      "needs_background": "light"
     },
     "output_type": "display_data"
    }
   ],
   "source": [
    "plt.figure(figsize=(10,10))\n",
    "sns.countplot(y)\n",
    "plt.title(\"male or female classes\")"
   ]
  },
  {
   "cell_type": "markdown",
   "metadata": {},
   "source": [
    "# 1) LOGISTIC REGRESSION"
   ]
  },
  {
   "cell_type": "markdown",
   "metadata": {},
   "source": [
    "# SPLIT DATA TRAIN AND TEST"
   ]
  },
  {
   "cell_type": "code",
   "execution_count": 20,
   "metadata": {},
   "outputs": [],
   "source": [
    "from sklearn.model_selection import train_test_split\n",
    "x_train, x_test, y_train, y_test = train_test_split(x,y, test_size = 0.2, random_state = 0)"
   ]
  },
  {
   "cell_type": "markdown",
   "metadata": {},
   "source": [
    "### Take a look at the shape of each of these"
   ]
  },
  {
   "cell_type": "code",
   "execution_count": 21,
   "metadata": {},
   "outputs": [
    {
     "name": "stdout",
     "output_type": "stream",
     "text": [
      "(8955, 5000) (8955,) (2239, 5000) (2239,)\n"
     ]
    }
   ],
   "source": [
    "print(x_train.shape,y_train.shape,x_test.shape,y_test.shape)"
   ]
  },
  {
   "cell_type": "markdown",
   "metadata": {},
   "source": [
    "# TRAIN THE DATA"
   ]
  },
  {
   "cell_type": "code",
   "execution_count": 22,
   "metadata": {},
   "outputs": [
    {
     "name": "stderr",
     "output_type": "stream",
     "text": [
      "/Users/fjacobo/opt/anaconda3/lib/python3.7/site-packages/sklearn/linear_model/logistic.py:432: FutureWarning: Default solver will be changed to 'lbfgs' in 0.22. Specify a solver to silence this warning.\n",
      "  FutureWarning)\n"
     ]
    },
    {
     "data": {
      "text/plain": [
       "LogisticRegression(C=1.0, class_weight=None, dual=False, fit_intercept=True,\n",
       "                   intercept_scaling=1, l1_ratio=None, max_iter=100,\n",
       "                   multi_class='warn', n_jobs=None, penalty='l2',\n",
       "                   random_state=None, solver='warn', tol=0.0001, verbose=0,\n",
       "                   warm_start=False)"
      ]
     },
     "execution_count": 22,
     "metadata": {},
     "output_type": "execute_result"
    }
   ],
   "source": [
    "from sklearn.linear_model import LogisticRegression\n",
    "logistic_reg = LogisticRegression()\n",
    "logistic_reg.fit(x_train,y_train)"
   ]
  },
  {
   "cell_type": "markdown",
   "metadata": {},
   "source": [
    "# PREDICT Y AND TEST"
   ]
  },
  {
   "cell_type": "code",
   "execution_count": 23,
   "metadata": {},
   "outputs": [],
   "source": [
    "y_pred = logistic_reg.predict(x_test)"
   ]
  },
  {
   "cell_type": "markdown",
   "metadata": {},
   "source": [
    "#### Accuracy of our logistic model"
   ]
  },
  {
   "cell_type": "code",
   "execution_count": 24,
   "metadata": {},
   "outputs": [
    {
     "name": "stdout",
     "output_type": "stream",
     "text": [
      "Accuracy 0.8069501518670716\n"
     ]
    }
   ],
   "source": [
    "from sklearn import metrics\n",
    "print('Accuracy',metrics.accuracy_score(y,logistic_reg.predict(x)))"
   ]
  },
  {
   "cell_type": "code",
   "execution_count": 25,
   "metadata": {},
   "outputs": [
    {
     "data": {
      "text/plain": [
       "array([1, 0, 0, ..., 1, 0, 1])"
      ]
     },
     "execution_count": 25,
     "metadata": {},
     "output_type": "execute_result"
    }
   ],
   "source": [
    "pred_test = logistic_reg.predict(x_test)\n",
    "pred_test"
   ]
  },
  {
   "cell_type": "markdown",
   "metadata": {},
   "source": [
    "#### Compare actual values vs predicted values\n",
    "#### Created new data set df1"
   ]
  },
  {
   "cell_type": "code",
   "execution_count": 26,
   "metadata": {},
   "outputs": [
    {
     "data": {
      "text/html": [
       "<div>\n",
       "<style scoped>\n",
       "    .dataframe tbody tr th:only-of-type {\n",
       "        vertical-align: middle;\n",
       "    }\n",
       "\n",
       "    .dataframe tbody tr th {\n",
       "        vertical-align: top;\n",
       "    }\n",
       "\n",
       "    .dataframe thead th {\n",
       "        text-align: right;\n",
       "    }\n",
       "</style>\n",
       "<table border=\"1\" class=\"dataframe\">\n",
       "  <thead>\n",
       "    <tr style=\"text-align: right;\">\n",
       "      <th></th>\n",
       "      <th>Actual</th>\n",
       "      <th>Predicted</th>\n",
       "    </tr>\n",
       "  </thead>\n",
       "  <tbody>\n",
       "    <tr>\n",
       "      <td>0</td>\n",
       "      <td>1</td>\n",
       "      <td>1</td>\n",
       "    </tr>\n",
       "    <tr>\n",
       "      <td>1</td>\n",
       "      <td>0</td>\n",
       "      <td>0</td>\n",
       "    </tr>\n",
       "    <tr>\n",
       "      <td>2</td>\n",
       "      <td>0</td>\n",
       "      <td>0</td>\n",
       "    </tr>\n",
       "    <tr>\n",
       "      <td>3</td>\n",
       "      <td>0</td>\n",
       "      <td>0</td>\n",
       "    </tr>\n",
       "    <tr>\n",
       "      <td>4</td>\n",
       "      <td>1</td>\n",
       "      <td>1</td>\n",
       "    </tr>\n",
       "    <tr>\n",
       "      <td>5</td>\n",
       "      <td>0</td>\n",
       "      <td>0</td>\n",
       "    </tr>\n",
       "    <tr>\n",
       "      <td>6</td>\n",
       "      <td>0</td>\n",
       "      <td>0</td>\n",
       "    </tr>\n",
       "    <tr>\n",
       "      <td>7</td>\n",
       "      <td>0</td>\n",
       "      <td>1</td>\n",
       "    </tr>\n",
       "    <tr>\n",
       "      <td>8</td>\n",
       "      <td>0</td>\n",
       "      <td>1</td>\n",
       "    </tr>\n",
       "    <tr>\n",
       "      <td>9</td>\n",
       "      <td>0</td>\n",
       "      <td>1</td>\n",
       "    </tr>\n",
       "    <tr>\n",
       "      <td>10</td>\n",
       "      <td>1</td>\n",
       "      <td>1</td>\n",
       "    </tr>\n",
       "    <tr>\n",
       "      <td>11</td>\n",
       "      <td>0</td>\n",
       "      <td>0</td>\n",
       "    </tr>\n",
       "    <tr>\n",
       "      <td>12</td>\n",
       "      <td>0</td>\n",
       "      <td>0</td>\n",
       "    </tr>\n",
       "    <tr>\n",
       "      <td>13</td>\n",
       "      <td>0</td>\n",
       "      <td>1</td>\n",
       "    </tr>\n",
       "    <tr>\n",
       "      <td>14</td>\n",
       "      <td>1</td>\n",
       "      <td>1</td>\n",
       "    </tr>\n",
       "    <tr>\n",
       "      <td>15</td>\n",
       "      <td>0</td>\n",
       "      <td>1</td>\n",
       "    </tr>\n",
       "    <tr>\n",
       "      <td>16</td>\n",
       "      <td>0</td>\n",
       "      <td>0</td>\n",
       "    </tr>\n",
       "    <tr>\n",
       "      <td>17</td>\n",
       "      <td>0</td>\n",
       "      <td>0</td>\n",
       "    </tr>\n",
       "    <tr>\n",
       "      <td>18</td>\n",
       "      <td>0</td>\n",
       "      <td>0</td>\n",
       "    </tr>\n",
       "    <tr>\n",
       "      <td>19</td>\n",
       "      <td>1</td>\n",
       "      <td>0</td>\n",
       "    </tr>\n",
       "  </tbody>\n",
       "</table>\n",
       "</div>"
      ],
      "text/plain": [
       "    Actual  Predicted\n",
       "0        1          1\n",
       "1        0          0\n",
       "2        0          0\n",
       "3        0          0\n",
       "4        1          1\n",
       "5        0          0\n",
       "6        0          0\n",
       "7        0          1\n",
       "8        0          1\n",
       "9        0          1\n",
       "10       1          1\n",
       "11       0          0\n",
       "12       0          0\n",
       "13       0          1\n",
       "14       1          1\n",
       "15       0          1\n",
       "16       0          0\n",
       "17       0          0\n",
       "18       0          0\n",
       "19       1          0"
      ]
     },
     "execution_count": 26,
     "metadata": {},
     "output_type": "execute_result"
    }
   ],
   "source": [
    "df1 = pd.DataFrame({'Actual':y_test.flatten(),'Predicted':y_pred.flatten()})\n",
    "df1.head(20)"
   ]
  },
  {
   "cell_type": "markdown",
   "metadata": {},
   "source": [
    "### Bar chart to easily see actual vs predicted"
   ]
  },
  {
   "cell_type": "code",
   "execution_count": 27,
   "metadata": {},
   "outputs": [
    {
     "data": {
      "image/png": "[encoded data removed]",
      "text/plain": [
       "<Figure size 720x360 with 1 Axes>"
      ]
     },
     "metadata": {
      "needs_background": "light"
     },
     "output_type": "display_data"
    }
   ],
   "source": [
    "df2=df1.head(20)\n",
    "df2.plot(kind='bar',figsize=(10,5))\n",
    "plt.grid(which='major',linestyle='-',linewidth='0.5',color='green')\n",
    "plt.grid(which='minor',linestyle='-',linewidth='0.5',color='green')\n",
    "plt.show()"
   ]
  },
  {
   "cell_type": "markdown",
   "metadata": {},
   "source": [
    "#### To look at prediction results data side by side"
   ]
  },
  {
   "cell_type": "code",
   "execution_count": 28,
   "metadata": {},
   "outputs": [
    {
     "data": {
      "text/html": [
       "<div>\n",
       "<style scoped>\n",
       "    .dataframe tbody tr th:only-of-type {\n",
       "        vertical-align: middle;\n",
       "    }\n",
       "\n",
       "    .dataframe tbody tr th {\n",
       "        vertical-align: top;\n",
       "    }\n",
       "\n",
       "    .dataframe thead th {\n",
       "        text-align: right;\n",
       "    }\n",
       "</style>\n",
       "<table border=\"1\" class=\"dataframe\">\n",
       "  <thead>\n",
       "    <tr style=\"text-align: right;\">\n",
       "      <th></th>\n",
       "      <th>0</th>\n",
       "      <th>1</th>\n",
       "      <th>pred</th>\n",
       "      <th>true</th>\n",
       "    </tr>\n",
       "  </thead>\n",
       "  <tbody>\n",
       "    <tr>\n",
       "      <td>0</td>\n",
       "      <td>0.351530</td>\n",
       "      <td>0.648470</td>\n",
       "      <td>1</td>\n",
       "      <td>1</td>\n",
       "    </tr>\n",
       "    <tr>\n",
       "      <td>1</td>\n",
       "      <td>0.582965</td>\n",
       "      <td>0.417035</td>\n",
       "      <td>0</td>\n",
       "      <td>0</td>\n",
       "    </tr>\n",
       "    <tr>\n",
       "      <td>2</td>\n",
       "      <td>0.928717</td>\n",
       "      <td>0.071283</td>\n",
       "      <td>0</td>\n",
       "      <td>0</td>\n",
       "    </tr>\n",
       "    <tr>\n",
       "      <td>3</td>\n",
       "      <td>0.991689</td>\n",
       "      <td>0.008311</td>\n",
       "      <td>0</td>\n",
       "      <td>0</td>\n",
       "    </tr>\n",
       "    <tr>\n",
       "      <td>4</td>\n",
       "      <td>0.404975</td>\n",
       "      <td>0.595025</td>\n",
       "      <td>1</td>\n",
       "      <td>1</td>\n",
       "    </tr>\n",
       "    <tr>\n",
       "      <td>5</td>\n",
       "      <td>0.941159</td>\n",
       "      <td>0.058841</td>\n",
       "      <td>0</td>\n",
       "      <td>0</td>\n",
       "    </tr>\n",
       "    <tr>\n",
       "      <td>6</td>\n",
       "      <td>0.523036</td>\n",
       "      <td>0.476964</td>\n",
       "      <td>0</td>\n",
       "      <td>0</td>\n",
       "    </tr>\n",
       "    <tr>\n",
       "      <td>7</td>\n",
       "      <td>0.171395</td>\n",
       "      <td>0.828605</td>\n",
       "      <td>1</td>\n",
       "      <td>0</td>\n",
       "    </tr>\n",
       "    <tr>\n",
       "      <td>8</td>\n",
       "      <td>0.288283</td>\n",
       "      <td>0.711717</td>\n",
       "      <td>1</td>\n",
       "      <td>0</td>\n",
       "    </tr>\n",
       "    <tr>\n",
       "      <td>9</td>\n",
       "      <td>0.379956</td>\n",
       "      <td>0.620044</td>\n",
       "      <td>1</td>\n",
       "      <td>0</td>\n",
       "    </tr>\n",
       "    <tr>\n",
       "      <td>10</td>\n",
       "      <td>0.438617</td>\n",
       "      <td>0.561383</td>\n",
       "      <td>1</td>\n",
       "      <td>1</td>\n",
       "    </tr>\n",
       "    <tr>\n",
       "      <td>11</td>\n",
       "      <td>0.920649</td>\n",
       "      <td>0.079351</td>\n",
       "      <td>0</td>\n",
       "      <td>0</td>\n",
       "    </tr>\n",
       "    <tr>\n",
       "      <td>12</td>\n",
       "      <td>0.835106</td>\n",
       "      <td>0.164894</td>\n",
       "      <td>0</td>\n",
       "      <td>0</td>\n",
       "    </tr>\n",
       "    <tr>\n",
       "      <td>13</td>\n",
       "      <td>0.412339</td>\n",
       "      <td>0.587661</td>\n",
       "      <td>1</td>\n",
       "      <td>0</td>\n",
       "    </tr>\n",
       "    <tr>\n",
       "      <td>14</td>\n",
       "      <td>0.348065</td>\n",
       "      <td>0.651935</td>\n",
       "      <td>1</td>\n",
       "      <td>1</td>\n",
       "    </tr>\n",
       "  </tbody>\n",
       "</table>\n",
       "</div>"
      ],
      "text/plain": [
       "           0         1  pred  true\n",
       "0   0.351530  0.648470     1     1\n",
       "1   0.582965  0.417035     0     0\n",
       "2   0.928717  0.071283     0     0\n",
       "3   0.991689  0.008311     0     0\n",
       "4   0.404975  0.595025     1     1\n",
       "5   0.941159  0.058841     0     0\n",
       "6   0.523036  0.476964     0     0\n",
       "7   0.171395  0.828605     1     0\n",
       "8   0.288283  0.711717     1     0\n",
       "9   0.379956  0.620044     1     0\n",
       "10  0.438617  0.561383     1     1\n",
       "11  0.920649  0.079351     0     0\n",
       "12  0.835106  0.164894     0     0\n",
       "13  0.412339  0.587661     1     0\n",
       "14  0.348065  0.651935     1     1"
      ]
     },
     "execution_count": 28,
     "metadata": {},
     "output_type": "execute_result"
    }
   ],
   "source": [
    "results = pd.DataFrame(data=logistic_reg.predict_proba(x_test))\n",
    "results['pred']=logistic_reg.predict(x_test)\n",
    "results['true']=y_test.tolist()\n",
    "results.head(15)"
   ]
  },
  {
   "cell_type": "markdown",
   "metadata": {},
   "source": [
    "#### New data set that we created to compare actual and predicted \n",
    "#### Checking shape of df1\n",
    "#### It has 2239 predicted values "
   ]
  },
  {
   "cell_type": "code",
   "execution_count": 29,
   "metadata": {},
   "outputs": [
    {
     "data": {
      "text/plain": [
       "(2239, 2)"
      ]
     },
     "execution_count": 29,
     "metadata": {},
     "output_type": "execute_result"
    }
   ],
   "source": [
    "df1.shape"
   ]
  },
  {
   "cell_type": "markdown",
   "metadata": {},
   "source": [
    "#### Create for loop to check how many wrong predicted rows\n",
    "#### Out of 2239 only 741 rows are not matching"
   ]
  },
  {
   "cell_type": "code",
   "execution_count": 30,
   "metadata": {},
   "outputs": [
    {
     "name": "stdout",
     "output_type": "stream",
     "text": [
      "741\n"
     ]
    }
   ],
   "source": [
    "j=0\n",
    "for i in range(len(df1)):\n",
    "    if df1.iloc[i,0]!=df1.iloc[i,1]:\n",
    "        j=j+1\n",
    "print(j)"
   ]
  },
  {
   "cell_type": "markdown",
   "metadata": {},
   "source": [
    "### Train and Test score of the logistic model\n",
    "### Training accuracy is high but test accuracy is low"
   ]
  },
  {
   "cell_type": "code",
   "execution_count": 31,
   "metadata": {},
   "outputs": [
    {
     "name": "stdout",
     "output_type": "stream",
     "text": [
      "Training accuracy is  0.84142936906756\n",
      "Test accuracy is  0.6690486824475212\n"
     ]
    }
   ],
   "source": [
    "train_score = logistic_reg.score(x_train, y_train)\n",
    "print('Training accuracy is ', train_score)\n",
    "test_score=logistic_reg.score(x_test, y_test)\n",
    "print('Test accuracy is ', test_score)"
   ]
  },
  {
   "cell_type": "markdown",
   "metadata": {},
   "source": [
    "#### Print coefficients and intercepts"
   ]
  },
  {
   "cell_type": "code",
   "execution_count": 32,
   "metadata": {},
   "outputs": [
    {
     "name": "stdout",
     "output_type": "stream",
     "text": [
      "Y intercept [0.35430258]\n",
      "coefficent b1 [[ 0.52537458  0.3180891   0.6184881  ... -0.27229968  0.26702823\n",
      "   0.00326326]]\n"
     ]
    }
   ],
   "source": [
    "print('Y intercept', logistic_reg.intercept_)\n",
    "print('coefficent b1', logistic_reg.coef_)"
   ]
  },
  {
   "cell_type": "markdown",
   "metadata": {},
   "source": [
    "#### Probability and Prediction"
   ]
  },
  {
   "cell_type": "code",
   "execution_count": 33,
   "metadata": {},
   "outputs": [
    {
     "name": "stdout",
     "output_type": "stream",
     "text": [
      "[[0.35153028 0.64846972]\n",
      " [0.5829653  0.4170347 ]\n",
      " [0.92871695 0.07128305]\n",
      " ...\n",
      " [0.42561047 0.57438953]\n",
      " [0.65712348 0.34287652]\n",
      " [0.14751269 0.85248731]]\n",
      "[1 0 0 ... 1 0 1]\n"
     ]
    }
   ],
   "source": [
    "prob = logistic_reg.predict_proba(x_test)\n",
    "pred = logistic_reg.predict(x_test)\n",
    "print(prob)\n",
    "print(pred)"
   ]
  },
  {
   "cell_type": "markdown",
   "metadata": {},
   "source": [
    "#### Creating bar plot for prediction"
   ]
  },
  {
   "cell_type": "code",
   "execution_count": 34,
   "metadata": {},
   "outputs": [
    {
     "data": {
      "text/plain": [
       "(array([671.,   0.,   0.,   0.,   0.,   0.,   0.,   0.,   0., 436.]),\n",
       " array([0. , 0.1, 0.2, 0.3, 0.4, 0.5, 0.6, 0.7, 0.8, 0.9, 1. ]),\n",
       " <a list of 10 Patch objects>)"
      ]
     },
     "execution_count": 34,
     "metadata": {},
     "output_type": "execute_result"
    },
    {
     "data": {
      "image/png": "[encoded data removed]",
      "text/plain": [
       "<Figure size 432x288 with 1 Axes>"
      ]
     },
     "metadata": {
      "needs_background": "light"
     },
     "output_type": "display_data"
    },
    {
     "data": {
      "image/png": "[encoded data removed]",
      "text/plain": [
       "<Figure size 432x288 with 1 Axes>"
      ]
     },
     "metadata": {
      "needs_background": "light"
     },
     "output_type": "display_data"
    }
   ],
   "source": [
    "plt.hist(pred[y_test==1])\n",
    "plt.figure()\n",
    "plt.hist(pred[y_test==0], color='r')"
   ]
  },
  {
   "cell_type": "markdown",
   "metadata": {},
   "source": [
    "#### Confusion matrix of the y test and y pred"
   ]
  },
  {
   "cell_type": "code",
   "execution_count": 35,
   "metadata": {},
   "outputs": [],
   "source": [
    "from sklearn.metrics import confusion_matrix\n",
    "cm = confusion_matrix(y_test,y_pred)\n"
   ]
  },
  {
   "cell_type": "markdown",
   "metadata": {},
   "source": [
    "#### Visualize confusin matrix"
   ]
  },
  {
   "cell_type": "markdown",
   "metadata": {},
   "source": [
    "I found this code on Kaggle it makes clear confusion matrix results\n",
    "They used for on  Heart Disease UCI data\n",
    "https://www.kaggle.com/canbugra/machine-learning-ml-dataiteam/data"
   ]
  },
  {
   "cell_type": "code",
   "execution_count": 36,
   "metadata": {},
   "outputs": [
    {
     "data": {
      "image/png": "[encoded data removed]",
      "text/plain": [
       "<Figure size 360x360 with 2 Axes>"
      ]
     },
     "metadata": {
      "needs_background": "light"
     },
     "output_type": "display_data"
    }
   ],
   "source": [
    "f, ax = plt.subplots(figsize =(5,5))\n",
    "sns.heatmap(cm,annot = True,linewidths=0.5,linecolor=\"red\",fmt = \".0f\",ax=ax)\n",
    "plt.xlabel(\"y_pred\")\n",
    "plt.ylabel(\"y_true\")\n",
    "plt.show()"
   ]
  },
  {
   "cell_type": "markdown",
   "metadata": {},
   "source": [
    "#### Let's make another plot to understand "
   ]
  },
  {
   "cell_type": "code",
   "execution_count": 37,
   "metadata": {},
   "outputs": [
    {
     "data": {
      "text/plain": [
       "Text(0.5, 0, 'predictions probabilities')"
      ]
     },
     "execution_count": 37,
     "metadata": {},
     "output_type": "execute_result"
    },
    {
     "data": {
      "image/png": "[encoded data removed]",
      "text/plain": [
       "<Figure size 720x720 with 1 Axes>"
      ]
     },
     "metadata": {
      "needs_background": "light"
     },
     "output_type": "display_data"
    }
   ],
   "source": [
    "prob_test = logistic_reg.predict_proba(x_test)  # Guess what is this\n",
    "\n",
    "plt.figure(figsize=(10,10))\n",
    "plt.scatter( prob_test[y_test==1,1],y_test[y_test==1], marker = 'x')\n",
    "plt.scatter( prob_test[y_test==0,1],y_test[y_test==0], c='r', marker = 'o')\n",
    "plt.plot([0.5,0.5],[0,1],c='b')\n",
    "plt.title('prob predictions of logistic regression')\n",
    "plt.ylabel('Actual Label')\n",
    "plt.xlabel('predictions probabilities')"
   ]
  },
  {
   "cell_type": "markdown",
   "metadata": {},
   "source": [
    "### R2 Score"
   ]
  },
  {
   "cell_type": "code",
   "execution_count": 38,
   "metadata": {},
   "outputs": [
    {
     "name": "stdout",
     "output_type": "stream",
     "text": [
      "R2 score -0.3239703333429096\n"
     ]
    }
   ],
   "source": [
    "from sklearn import metrics\n",
    "from sklearn.metrics import r2_score\n",
    "\n",
    "print('R2 score', r2_score(y_test,y_pred))"
   ]
  },
  {
   "cell_type": "markdown",
   "metadata": {},
   "source": [
    "### Mean absulate error\n",
    "### Mean Squared Error\n",
    "### Root mean squared error"
   ]
  },
  {
   "cell_type": "code",
   "execution_count": 39,
   "metadata": {},
   "outputs": [
    {
     "name": "stdout",
     "output_type": "stream",
     "text": [
      "Mean absulate error: 0.3309513175524788\n",
      "Mean Squared Error: 0.3309513175524788\n",
      "Root mean squared error: 0.5752836844135933\n"
     ]
    }
   ],
   "source": [
    "# Also mean absulate error and mean square error\n",
    "print('Mean absulate error:', metrics.mean_absolute_error(y_test,y_pred))\n",
    "print('Mean Squared Error:', metrics.mean_squared_error(y_test,y_pred))\n",
    "print('Root mean squared error:', np.sqrt(metrics.mean_squared_error(y_test,y_pred)))"
   ]
  },
  {
   "cell_type": "markdown",
   "metadata": {},
   "source": [
    "# 2) DEEP NEURAL NETWORK"
   ]
  },
  {
   "cell_type": "markdown",
   "metadata": {},
   "source": [
    "# Step 1) Build the model ( Defining the model/flow )"
   ]
  },
  {
   "cell_type": "code",
   "execution_count": 40,
   "metadata": {},
   "outputs": [],
   "source": [
    "# Import Libraries\n",
    "import tensorflow as tf\n",
    "from tensorflow.keras import models, layers\n",
    "\n",
    "# Decribe first hidden layer\n",
    "model = models.Sequential()\n",
    "model.add(layers.Dense(100, activation='relu', input_dim=x_train.shape[1]))\n",
    "\n",
    "# 2nd layer\n",
    "# Relu gives you more accuracy and faster\n",
    "model.add(layers.Dense(50, activation='relu'))\n",
    "\n",
    "# 3rd layer\n",
    "model.add(layers.Dense(16, activation='relu'))\n",
    "\n",
    "# 4th layer\n",
    "model.add(layers.Dense(10, activation='relu'))\n",
    "\n",
    "# Output layer\n",
    "model.add(layers.Dense(1, activation='sigmoid'))\n"
   ]
  },
  {
   "cell_type": "markdown",
   "metadata": {},
   "source": [
    "## Step 2)  lost(cost funchtion), optimizer, metric(To decide if we learning or not)\n"
   ]
  },
  {
   "cell_type": "code",
   "execution_count": 41,
   "metadata": {},
   "outputs": [],
   "source": [
    "model.compile(optimizer='adam', loss='binary_crossentropy', metrics=['accuracy'])"
   ]
  },
  {
   "cell_type": "markdown",
   "metadata": {},
   "source": [
    "## Step 3) Fit the model"
   ]
  },
  {
   "cell_type": "markdown",
   "metadata": {},
   "source": [
    "### Epochs is number of iters\n",
    "### Loss is reducing \n",
    "### Accuracy is rising\n",
    "### Batch size controlling how many samples you're learning at once. We picked 10\n",
    "### loss: 0.0668 - accuracy: 0.9615 - val_loss: 4.8648 - val_accuracy: 0.6440"
   ]
  },
  {
   "cell_type": "code",
   "execution_count": 56,
   "metadata": {},
   "outputs": [
    {
     "name": "stdout",
     "output_type": "stream",
     "text": [
      "Epoch 1/200\n",
      "896/896 [==============================] - 3s 4ms/step - loss: 0.0666 - accuracy: 0.9615 - val_loss: 6.1268 - val_accuracy: 0.6387\n",
      "Epoch 2/200\n",
      "896/896 [==============================] - 4s 4ms/step - loss: 0.0667 - accuracy: 0.9610 - val_loss: 6.6829 - val_accuracy: 0.6373\n",
      "Epoch 3/200\n",
      "896/896 [==============================] - 4s 4ms/step - loss: 0.0670 - accuracy: 0.9610 - val_loss: 5.6904 - val_accuracy: 0.6356\n",
      "Epoch 4/200\n",
      "896/896 [==============================] - 4s 4ms/step - loss: 0.0670 - accuracy: 0.9611 - val_loss: 5.7928 - val_accuracy: 0.6378\n",
      "Epoch 5/200\n",
      "896/896 [==============================] - 4s 4ms/step - loss: 0.0693 - accuracy: 0.9607 - val_loss: 4.8576 - val_accuracy: 0.6418\n",
      "Epoch 6/200\n",
      "896/896 [==============================] - 3s 4ms/step - loss: 0.0731 - accuracy: 0.9601 - val_loss: 3.9120 - val_accuracy: 0.6436\n",
      "Epoch 7/200\n",
      "896/896 [==============================] - 3s 4ms/step - loss: 0.0679 - accuracy: 0.9607 - val_loss: 4.4315 - val_accuracy: 0.6387\n",
      "Epoch 8/200\n",
      "896/896 [==============================] - 4s 4ms/step - loss: 0.0667 - accuracy: 0.9610 - val_loss: 4.6661 - val_accuracy: 0.6409\n",
      "Epoch 9/200\n",
      "896/896 [==============================] - 3s 4ms/step - loss: 0.0667 - accuracy: 0.9613 - val_loss: 4.8184 - val_accuracy: 0.6400\n",
      "Epoch 10/200\n",
      "896/896 [==============================] - 4s 4ms/step - loss: 0.0667 - accuracy: 0.9614 - val_loss: 4.7799 - val_accuracy: 0.6387\n",
      "Epoch 11/200\n",
      "896/896 [==============================] - 3s 4ms/step - loss: 0.0667 - accuracy: 0.9601 - val_loss: 5.0661 - val_accuracy: 0.6396\n",
      "Epoch 12/200\n",
      "896/896 [==============================] - 4s 4ms/step - loss: 0.0666 - accuracy: 0.9609 - val_loss: 5.6182 - val_accuracy: 0.6423\n",
      "Epoch 13/200\n",
      "896/896 [==============================] - 4s 4ms/step - loss: 0.0681 - accuracy: 0.9606 - val_loss: 4.9261 - val_accuracy: 0.6391\n",
      "Epoch 14/200\n",
      "896/896 [==============================] - 4s 4ms/step - loss: 0.0667 - accuracy: 0.9606 - val_loss: 5.3481 - val_accuracy: 0.6409\n",
      "Epoch 15/200\n",
      "896/896 [==============================] - 4s 4ms/step - loss: 0.0668 - accuracy: 0.9606 - val_loss: 4.9972 - val_accuracy: 0.6351\n",
      "Epoch 16/200\n",
      "896/896 [==============================] - 4s 4ms/step - loss: 0.0668 - accuracy: 0.9608 - val_loss: 5.4775 - val_accuracy: 0.6409\n",
      "Epoch 17/200\n",
      "896/896 [==============================] - 4s 4ms/step - loss: 0.0717 - accuracy: 0.9600 - val_loss: 4.3488 - val_accuracy: 0.6458\n",
      "Epoch 18/200\n",
      "896/896 [==============================] - 4s 4ms/step - loss: 0.0666 - accuracy: 0.9613 - val_loss: 4.5857 - val_accuracy: 0.6431\n",
      "Epoch 19/200\n",
      "896/896 [==============================] - 4s 4ms/step - loss: 0.0666 - accuracy: 0.9610 - val_loss: 4.7552 - val_accuracy: 0.6423\n",
      "Epoch 20/200\n",
      "896/896 [==============================] - 3s 4ms/step - loss: 0.0664 - accuracy: 0.9610 - val_loss: 5.1699 - val_accuracy: 0.6445\n",
      "Epoch 21/200\n",
      "896/896 [==============================] - 4s 4ms/step - loss: 0.0667 - accuracy: 0.9608 - val_loss: 4.9811 - val_accuracy: 0.6427\n",
      "Epoch 22/200\n",
      "896/896 [==============================] - 4s 5ms/step - loss: 0.0666 - accuracy: 0.9611 - val_loss: 5.3033 - val_accuracy: 0.6418\n",
      "Epoch 23/200\n",
      "896/896 [==============================] - 4s 5ms/step - loss: 0.0666 - accuracy: 0.9610 - val_loss: 5.4882 - val_accuracy: 0.6423\n",
      "Epoch 24/200\n",
      "896/896 [==============================] - 4s 4ms/step - loss: 0.0667 - accuracy: 0.9615 - val_loss: 5.3809 - val_accuracy: 0.6431\n",
      "Epoch 25/200\n",
      "896/896 [==============================] - 4s 4ms/step - loss: 0.0666 - accuracy: 0.9611 - val_loss: 5.9695 - val_accuracy: 0.6463\n",
      "Epoch 26/200\n",
      "896/896 [==============================] - 4s 5ms/step - loss: 0.0667 - accuracy: 0.9609 - val_loss: 6.0159 - val_accuracy: 0.6458\n",
      "Epoch 27/200\n",
      "896/896 [==============================] - 3s 4ms/step - loss: 0.0673 - accuracy: 0.9609 - val_loss: 4.6550 - val_accuracy: 0.6454\n",
      "Epoch 28/200\n",
      "896/896 [==============================] - 3s 4ms/step - loss: 0.0670 - accuracy: 0.9613 - val_loss: 4.6767 - val_accuracy: 0.6414\n",
      "Epoch 29/200\n",
      "896/896 [==============================] - 3s 4ms/step - loss: 0.0688 - accuracy: 0.9602 - val_loss: 4.2079 - val_accuracy: 0.6405\n",
      "Epoch 30/200\n",
      "896/896 [==============================] - 3s 4ms/step - loss: 0.0668 - accuracy: 0.9605 - val_loss: 4.5376 - val_accuracy: 0.6418\n",
      "Epoch 31/200\n",
      "896/896 [==============================] - 3s 4ms/step - loss: 0.0667 - accuracy: 0.9608 - val_loss: 4.7383 - val_accuracy: 0.6400\n",
      "Epoch 32/200\n",
      "896/896 [==============================] - 3s 4ms/step - loss: 0.0668 - accuracy: 0.9609 - val_loss: 4.8611 - val_accuracy: 0.6391\n",
      "Epoch 33/200\n",
      "896/896 [==============================] - 4s 4ms/step - loss: 0.0670 - accuracy: 0.9611 - val_loss: 4.9655 - val_accuracy: 0.6409\n",
      "Epoch 34/200\n",
      "896/896 [==============================] - 3s 4ms/step - loss: 0.0666 - accuracy: 0.9607 - val_loss: 5.4527 - val_accuracy: 0.6409\n",
      "Epoch 35/200\n",
      "896/896 [==============================] - 3s 4ms/step - loss: 0.0669 - accuracy: 0.9607 - val_loss: 4.7413 - val_accuracy: 0.6418\n",
      "Epoch 36/200\n",
      "896/896 [==============================] - 4s 4ms/step - loss: 0.0666 - accuracy: 0.9604 - val_loss: 5.5500 - val_accuracy: 0.6400\n",
      "Epoch 37/200\n",
      "896/896 [==============================] - 3s 4ms/step - loss: 0.0666 - accuracy: 0.9608 - val_loss: 5.6907 - val_accuracy: 0.6436\n",
      "Epoch 38/200\n",
      "896/896 [==============================] - 4s 4ms/step - loss: 0.0667 - accuracy: 0.9611 - val_loss: 6.1253 - val_accuracy: 0.6414\n",
      "Epoch 39/200\n",
      "896/896 [==============================] - 4s 4ms/step - loss: 0.0666 - accuracy: 0.9610 - val_loss: 6.7181 - val_accuracy: 0.6405\n",
      "Epoch 40/200\n",
      "896/896 [==============================] - 4s 4ms/step - loss: 0.0667 - accuracy: 0.9606 - val_loss: 7.0357 - val_accuracy: 0.6369\n",
      "Epoch 41/200\n",
      "896/896 [==============================] - 4s 4ms/step - loss: 0.0666 - accuracy: 0.9608 - val_loss: 7.2583 - val_accuracy: 0.6400\n",
      "Epoch 42/200\n",
      "896/896 [==============================] - 4s 4ms/step - loss: 0.0730 - accuracy: 0.9601 - val_loss: 4.6362 - val_accuracy: 0.6458\n",
      "Epoch 43/200\n",
      "896/896 [==============================] - 4s 4ms/step - loss: 0.0698 - accuracy: 0.9605 - val_loss: 4.7939 - val_accuracy: 0.6409\n",
      "Epoch 44/200\n",
      "896/896 [==============================] - 4s 4ms/step - loss: 0.0667 - accuracy: 0.9616 - val_loss: 4.8017 - val_accuracy: 0.6418\n",
      "Epoch 45/200\n",
      "896/896 [==============================] - 3s 4ms/step - loss: 0.0665 - accuracy: 0.9615 - val_loss: 4.9377 - val_accuracy: 0.6423\n",
      "Epoch 46/200\n",
      "896/896 [==============================] - 4s 4ms/step - loss: 0.0666 - accuracy: 0.9610 - val_loss: 5.2464 - val_accuracy: 0.6445\n",
      "Epoch 47/200\n",
      "896/896 [==============================] - 3s 4ms/step - loss: 0.0666 - accuracy: 0.9606 - val_loss: 5.5237 - val_accuracy: 0.6436\n",
      "Epoch 48/200\n",
      "896/896 [==============================] - 3s 4ms/step - loss: 0.0667 - accuracy: 0.9610 - val_loss: 5.5791 - val_accuracy: 0.6400\n",
      "Epoch 49/200\n",
      "896/896 [==============================] - 4s 4ms/step - loss: 0.0666 - accuracy: 0.9613 - val_loss: 5.7131 - val_accuracy: 0.6458\n",
      "Epoch 50/200\n",
      "896/896 [==============================] - 4s 4ms/step - loss: 0.0666 - accuracy: 0.9610 - val_loss: 5.7518 - val_accuracy: 0.6405\n",
      "Epoch 51/200\n",
      "896/896 [==============================] - 3s 4ms/step - loss: 0.0666 - accuracy: 0.9615 - val_loss: 5.6404 - val_accuracy: 0.6427\n",
      "Epoch 52/200\n",
      "896/896 [==============================] - 3s 4ms/step - loss: 0.0666 - accuracy: 0.9611 - val_loss: 6.6138 - val_accuracy: 0.6387\n",
      "Epoch 53/200\n",
      "896/896 [==============================] - 3s 4ms/step - loss: 0.0667 - accuracy: 0.9608 - val_loss: 9.0508 - val_accuracy: 0.6391\n",
      "Epoch 54/200\n",
      "896/896 [==============================] - 3s 4ms/step - loss: 0.0714 - accuracy: 0.9611 - val_loss: 3.9116 - val_accuracy: 0.6485\n",
      "Epoch 55/200\n",
      "896/896 [==============================] - 4s 4ms/step - loss: 0.0668 - accuracy: 0.9609 - val_loss: 4.0904 - val_accuracy: 0.6481\n",
      "Epoch 56/200\n",
      "896/896 [==============================] - 4s 4ms/step - loss: 0.0668 - accuracy: 0.9615 - val_loss: 4.4872 - val_accuracy: 0.6445\n",
      "Epoch 57/200\n",
      "896/896 [==============================] - 3s 4ms/step - loss: 0.0667 - accuracy: 0.9608 - val_loss: 4.2786 - val_accuracy: 0.6458\n",
      "Epoch 58/200\n",
      "896/896 [==============================] - 3s 4ms/step - loss: 0.0666 - accuracy: 0.9610 - val_loss: 4.7553 - val_accuracy: 0.6449\n",
      "Epoch 59/200\n",
      "896/896 [==============================] - 4s 4ms/step - loss: 0.0667 - accuracy: 0.9607 - val_loss: 5.2101 - val_accuracy: 0.6427\n",
      "Epoch 60/200\n",
      "896/896 [==============================] - 4s 4ms/step - loss: 0.0667 - accuracy: 0.9609 - val_loss: 5.1682 - val_accuracy: 0.6414\n",
      "Epoch 61/200\n",
      "896/896 [==============================] - 4s 4ms/step - loss: 0.0666 - accuracy: 0.9611 - val_loss: 5.4063 - val_accuracy: 0.6423\n",
      "Epoch 62/200\n",
      "896/896 [==============================] - 3s 4ms/step - loss: 0.0669 - accuracy: 0.9608 - val_loss: 6.5686 - val_accuracy: 0.6378\n",
      "Epoch 63/200\n",
      "896/896 [==============================] - 4s 4ms/step - loss: 0.0751 - accuracy: 0.9608 - val_loss: 5.1120 - val_accuracy: 0.6391\n",
      "Epoch 64/200\n",
      "896/896 [==============================] - 4s 4ms/step - loss: 0.0666 - accuracy: 0.9609 - val_loss: 5.7787 - val_accuracy: 0.6382\n",
      "Epoch 65/200\n",
      "896/896 [==============================] - 3s 4ms/step - loss: 0.0666 - accuracy: 0.9613 - val_loss: 5.4136 - val_accuracy: 0.6400\n",
      "Epoch 66/200\n",
      "896/896 [==============================] - 3s 4ms/step - loss: 0.0665 - accuracy: 0.9608 - val_loss: 5.7567 - val_accuracy: 0.6382\n",
      "Epoch 67/200\n",
      "896/896 [==============================] - 3s 4ms/step - loss: 0.0666 - accuracy: 0.9608 - val_loss: 5.7752 - val_accuracy: 0.6373\n",
      "Epoch 68/200\n",
      "896/896 [==============================] - 4s 4ms/step - loss: 0.0666 - accuracy: 0.9614 - val_loss: 5.8462 - val_accuracy: 0.6391\n",
      "Epoch 69/200\n",
      "896/896 [==============================] - 3s 4ms/step - loss: 0.0671 - accuracy: 0.9613 - val_loss: 5.0263 - val_accuracy: 0.6396\n",
      "Epoch 70/200\n",
      "896/896 [==============================] - 4s 4ms/step - loss: 0.0668 - accuracy: 0.9606 - val_loss: 4.9581 - val_accuracy: 0.6378\n",
      "Epoch 71/200\n",
      "896/896 [==============================] - 4s 4ms/step - loss: 0.0666 - accuracy: 0.9614 - val_loss: 5.3198 - val_accuracy: 0.6400\n",
      "Epoch 72/200\n",
      "896/896 [==============================] - 3s 4ms/step - loss: 0.0667 - accuracy: 0.9601 - val_loss: 5.2246 - val_accuracy: 0.6373\n",
      "Epoch 73/200\n",
      "896/896 [==============================] - 3s 4ms/step - loss: 0.0666 - accuracy: 0.9601 - val_loss: 5.5752 - val_accuracy: 0.6378\n",
      "Epoch 74/200\n",
      "896/896 [==============================] - 3s 4ms/step - loss: 0.0666 - accuracy: 0.9610 - val_loss: 6.0735 - val_accuracy: 0.6387\n",
      "Epoch 75/200\n",
      "896/896 [==============================] - 3s 4ms/step - loss: 0.0670 - accuracy: 0.9613 - val_loss: 5.7872 - val_accuracy: 0.6400\n",
      "Epoch 76/200\n",
      "896/896 [==============================] - 3s 4ms/step - loss: 0.0666 - accuracy: 0.9609 - val_loss: 6.0059 - val_accuracy: 0.6396\n",
      "Epoch 77/200\n",
      "896/896 [==============================] - 3s 4ms/step - loss: 0.0706 - accuracy: 0.9607 - val_loss: 5.2420 - val_accuracy: 0.6382\n",
      "Epoch 78/200\n",
      "896/896 [==============================] - 3s 4ms/step - loss: 0.0667 - accuracy: 0.9613 - val_loss: 5.2637 - val_accuracy: 0.6396\n",
      "Epoch 79/200\n",
      "896/896 [==============================] - 3s 4ms/step - loss: 0.0665 - accuracy: 0.9611 - val_loss: 5.8178 - val_accuracy: 0.6414\n",
      "Epoch 80/200\n",
      "896/896 [==============================] - 3s 4ms/step - loss: 0.0672 - accuracy: 0.9613 - val_loss: 5.0409 - val_accuracy: 0.6423\n",
      "Epoch 81/200\n",
      "896/896 [==============================] - 3s 4ms/step - loss: 0.0668 - accuracy: 0.9609 - val_loss: 5.4087 - val_accuracy: 0.6418\n",
      "Epoch 82/200\n",
      "896/896 [==============================] - 4s 4ms/step - loss: 0.0667 - accuracy: 0.9613 - val_loss: 5.7556 - val_accuracy: 0.6400\n",
      "Epoch 83/200\n",
      "896/896 [==============================] - 3s 4ms/step - loss: 0.0666 - accuracy: 0.9610 - val_loss: 6.3670 - val_accuracy: 0.6396\n",
      "Epoch 84/200\n",
      "896/896 [==============================] - 3s 4ms/step - loss: 0.0674 - accuracy: 0.9607 - val_loss: 4.9091 - val_accuracy: 0.6364\n",
      "Epoch 85/200\n",
      "896/896 [==============================] - 3s 4ms/step - loss: 0.0683 - accuracy: 0.9610 - val_loss: 3.9952 - val_accuracy: 0.6387\n",
      "Epoch 86/200\n",
      "896/896 [==============================] - 3s 4ms/step - loss: 0.0677 - accuracy: 0.9609 - val_loss: 4.1046 - val_accuracy: 0.6396\n",
      "Epoch 87/200\n",
      "896/896 [==============================] - 3s 4ms/step - loss: 0.0667 - accuracy: 0.9613 - val_loss: 4.2739 - val_accuracy: 0.6400\n",
      "Epoch 88/200\n",
      "896/896 [==============================] - 4s 4ms/step - loss: 0.0667 - accuracy: 0.9611 - val_loss: 4.4967 - val_accuracy: 0.6387\n",
      "Epoch 89/200\n",
      "896/896 [==============================] - 4s 4ms/step - loss: 0.0666 - accuracy: 0.9611 - val_loss: 4.6827 - val_accuracy: 0.6387\n",
      "Epoch 90/200\n",
      "896/896 [==============================] - 3s 4ms/step - loss: 0.0666 - accuracy: 0.9609 - val_loss: 5.0653 - val_accuracy: 0.6405\n",
      "Epoch 91/200\n",
      "896/896 [==============================] - 4s 4ms/step - loss: 0.0666 - accuracy: 0.9613 - val_loss: 4.8696 - val_accuracy: 0.6400\n",
      "Epoch 92/200\n",
      "896/896 [==============================] - 3s 4ms/step - loss: 0.0666 - accuracy: 0.9615 - val_loss: 5.8085 - val_accuracy: 0.6396\n",
      "Epoch 93/200\n",
      "896/896 [==============================] - 4s 4ms/step - loss: 0.0666 - accuracy: 0.9613 - val_loss: 5.7492 - val_accuracy: 0.6396\n",
      "Epoch 94/200\n",
      "896/896 [==============================] - 4s 4ms/step - loss: 0.0666 - accuracy: 0.9608 - val_loss: 5.9133 - val_accuracy: 0.6409\n",
      "Epoch 95/200\n",
      "896/896 [==============================] - 3s 4ms/step - loss: 0.0666 - accuracy: 0.9609 - val_loss: 5.9319 - val_accuracy: 0.6405\n",
      "Epoch 96/200\n",
      "896/896 [==============================] - 3s 4ms/step - loss: 0.0666 - accuracy: 0.9610 - val_loss: 6.2140 - val_accuracy: 0.6405\n",
      "Epoch 97/200\n",
      "896/896 [==============================] - 3s 4ms/step - loss: 0.0665 - accuracy: 0.9610 - val_loss: 7.4337 - val_accuracy: 0.6405\n",
      "Epoch 98/200\n",
      "896/896 [==============================] - 3s 4ms/step - loss: 0.0666 - accuracy: 0.9614 - val_loss: 9.7707 - val_accuracy: 0.6391\n",
      "Epoch 99/200\n",
      "896/896 [==============================] - 3s 4ms/step - loss: 0.0681 - accuracy: 0.9613 - val_loss: 7.1067 - val_accuracy: 0.6382\n",
      "Epoch 100/200\n",
      "896/896 [==============================] - 4s 4ms/step - loss: 0.0669 - accuracy: 0.9615 - val_loss: 6.2381 - val_accuracy: 0.6414\n",
      "Epoch 101/200\n",
      "896/896 [==============================] - 4s 4ms/step - loss: 0.0675 - accuracy: 0.9608 - val_loss: 5.3539 - val_accuracy: 0.6405\n",
      "Epoch 102/200\n",
      "896/896 [==============================] - 4s 4ms/step - loss: 0.0669 - accuracy: 0.9614 - val_loss: 6.3313 - val_accuracy: 0.6378\n",
      "Epoch 103/200\n",
      "896/896 [==============================] - 3s 4ms/step - loss: 0.0682 - accuracy: 0.9611 - val_loss: 4.5693 - val_accuracy: 0.6391\n",
      "Epoch 104/200\n",
      "896/896 [==============================] - 4s 4ms/step - loss: 0.0673 - accuracy: 0.9609 - val_loss: 4.6720 - val_accuracy: 0.6351\n",
      "Epoch 105/200\n",
      "896/896 [==============================] - 4s 4ms/step - loss: 0.0665 - accuracy: 0.9615 - val_loss: 4.7560 - val_accuracy: 0.6373\n",
      "Epoch 106/200\n",
      "896/896 [==============================] - 4s 4ms/step - loss: 0.0666 - accuracy: 0.9611 - val_loss: 5.0521 - val_accuracy: 0.6364\n",
      "Epoch 107/200\n",
      "896/896 [==============================] - 3s 4ms/step - loss: 0.0666 - accuracy: 0.9614 - val_loss: 5.2763 - val_accuracy: 0.6373\n",
      "Epoch 108/200\n",
      "896/896 [==============================] - 3s 4ms/step - loss: 0.0666 - accuracy: 0.9611 - val_loss: 5.1758 - val_accuracy: 0.6364\n",
      "Epoch 109/200\n",
      "896/896 [==============================] - 3s 4ms/step - loss: 0.0666 - accuracy: 0.9611 - val_loss: 5.2322 - val_accuracy: 0.6364\n",
      "Epoch 110/200\n",
      "896/896 [==============================] - 3s 4ms/step - loss: 0.0666 - accuracy: 0.9615 - val_loss: 5.4368 - val_accuracy: 0.6364\n",
      "Epoch 111/200\n",
      "896/896 [==============================] - 3s 4ms/step - loss: 0.0667 - accuracy: 0.9615 - val_loss: 5.0634 - val_accuracy: 0.6387\n",
      "Epoch 112/200\n",
      "896/896 [==============================] - 4s 4ms/step - loss: 0.0668 - accuracy: 0.9614 - val_loss: 4.8617 - val_accuracy: 0.6391\n",
      "Epoch 113/200\n",
      "896/896 [==============================] - 4s 4ms/step - loss: 0.0668 - accuracy: 0.9610 - val_loss: 8.7479 - val_accuracy: 0.6342\n",
      "Epoch 114/200\n",
      "896/896 [==============================] - 4s 4ms/step - loss: 0.0683 - accuracy: 0.9608 - val_loss: 3.6961 - val_accuracy: 0.6440\n",
      "Epoch 115/200\n",
      "896/896 [==============================] - 4s 4ms/step - loss: 0.0667 - accuracy: 0.9610 - val_loss: 4.8405 - val_accuracy: 0.6342\n",
      "Epoch 116/200\n",
      "896/896 [==============================] - 3s 4ms/step - loss: 0.0667 - accuracy: 0.9611 - val_loss: 4.9475 - val_accuracy: 0.6378\n",
      "Epoch 117/200\n",
      "896/896 [==============================] - 3s 4ms/step - loss: 0.0666 - accuracy: 0.9606 - val_loss: 5.5265 - val_accuracy: 0.6351\n",
      "Epoch 118/200\n",
      "896/896 [==============================] - 4s 4ms/step - loss: 0.0668 - accuracy: 0.9614 - val_loss: 4.7784 - val_accuracy: 0.6338\n",
      "Epoch 119/200\n",
      "896/896 [==============================] - 3s 4ms/step - loss: 0.0665 - accuracy: 0.9613 - val_loss: 4.9078 - val_accuracy: 0.6364\n",
      "Epoch 120/200\n",
      "896/896 [==============================] - 4s 4ms/step - loss: 0.0665 - accuracy: 0.9614 - val_loss: 6.0992 - val_accuracy: 0.6369\n",
      "Epoch 121/200\n",
      "896/896 [==============================] - 3s 4ms/step - loss: 0.0666 - accuracy: 0.9614 - val_loss: 6.4216 - val_accuracy: 0.6369\n",
      "Epoch 122/200\n",
      "896/896 [==============================] - 4s 4ms/step - loss: 0.0668 - accuracy: 0.9613 - val_loss: 4.0274 - val_accuracy: 0.6351\n",
      "Epoch 123/200\n",
      "896/896 [==============================] - 3s 4ms/step - loss: 0.0668 - accuracy: 0.9615 - val_loss: 5.8046 - val_accuracy: 0.6378\n",
      "Epoch 124/200\n",
      "896/896 [==============================] - 4s 4ms/step - loss: 0.0713 - accuracy: 0.9607 - val_loss: 5.5316 - val_accuracy: 0.6351\n",
      "Epoch 125/200\n",
      "896/896 [==============================] - 4s 4ms/step - loss: 0.0665 - accuracy: 0.9615 - val_loss: 5.5744 - val_accuracy: 0.6338\n",
      "Epoch 126/200\n",
      "896/896 [==============================] - 4s 4ms/step - loss: 0.0665 - accuracy: 0.9615 - val_loss: 5.4551 - val_accuracy: 0.6351\n",
      "Epoch 127/200\n",
      "896/896 [==============================] - 4s 4ms/step - loss: 0.0666 - accuracy: 0.9615 - val_loss: 5.4942 - val_accuracy: 0.6338\n",
      "Epoch 128/200\n",
      "896/896 [==============================] - 4s 4ms/step - loss: 0.0666 - accuracy: 0.9616 - val_loss: 5.5446 - val_accuracy: 0.6342\n",
      "Epoch 129/200\n",
      "896/896 [==============================] - 4s 4ms/step - loss: 0.0665 - accuracy: 0.9614 - val_loss: 5.8138 - val_accuracy: 0.6351\n",
      "Epoch 130/200\n",
      "896/896 [==============================] - 4s 4ms/step - loss: 0.0669 - accuracy: 0.9613 - val_loss: 4.9100 - val_accuracy: 0.6364\n",
      "Epoch 131/200\n",
      "896/896 [==============================] - 4s 4ms/step - loss: 0.0666 - accuracy: 0.9616 - val_loss: 5.5980 - val_accuracy: 0.6324\n",
      "Epoch 132/200\n",
      "896/896 [==============================] - 4s 4ms/step - loss: 0.0666 - accuracy: 0.9615 - val_loss: 5.8659 - val_accuracy: 0.6329\n",
      "Epoch 133/200\n",
      "896/896 [==============================] - 4s 4ms/step - loss: 0.0666 - accuracy: 0.9611 - val_loss: 5.7145 - val_accuracy: 0.6364\n",
      "Epoch 134/200\n",
      "896/896 [==============================] - 4s 4ms/step - loss: 0.0666 - accuracy: 0.9615 - val_loss: 6.1149 - val_accuracy: 0.6324\n",
      "Epoch 135/200\n",
      "896/896 [==============================] - 3s 4ms/step - loss: 0.0666 - accuracy: 0.9614 - val_loss: 6.3733 - val_accuracy: 0.6338\n",
      "Epoch 136/200\n",
      "896/896 [==============================] - 4s 4ms/step - loss: 0.0665 - accuracy: 0.9616 - val_loss: 6.8625 - val_accuracy: 0.6329\n",
      "Epoch 137/200\n",
      "896/896 [==============================] - 4s 4ms/step - loss: 0.0665 - accuracy: 0.9615 - val_loss: 7.5734 - val_accuracy: 0.6329\n",
      "Epoch 138/200\n",
      "896/896 [==============================] - 4s 4ms/step - loss: 0.0666 - accuracy: 0.9609 - val_loss: 7.5814 - val_accuracy: 0.6369\n",
      "Epoch 139/200\n",
      "896/896 [==============================] - 4s 4ms/step - loss: 0.0669 - accuracy: 0.9611 - val_loss: 6.5452 - val_accuracy: 0.6369\n",
      "Epoch 140/200\n",
      "896/896 [==============================] - 4s 4ms/step - loss: 0.0666 - accuracy: 0.9614 - val_loss: 7.2195 - val_accuracy: 0.6356\n",
      "Epoch 141/200\n",
      "896/896 [==============================] - 4s 4ms/step - loss: 0.0665 - accuracy: 0.9616 - val_loss: 7.9379 - val_accuracy: 0.6333\n",
      "Epoch 142/200\n",
      "896/896 [==============================] - 4s 4ms/step - loss: 0.0666 - accuracy: 0.9615 - val_loss: 8.1346 - val_accuracy: 0.6360\n",
      "Epoch 143/200\n",
      "896/896 [==============================] - 4s 4ms/step - loss: 0.0712 - accuracy: 0.9611 - val_loss: 6.7653 - val_accuracy: 0.6378\n",
      "Epoch 144/200\n",
      "896/896 [==============================] - 3s 4ms/step - loss: 0.0665 - accuracy: 0.9615 - val_loss: 6.7361 - val_accuracy: 0.6333\n",
      "Epoch 145/200\n",
      "896/896 [==============================] - 3s 4ms/step - loss: 0.0665 - accuracy: 0.9614 - val_loss: 6.8793 - val_accuracy: 0.6347\n",
      "Epoch 146/200\n",
      "896/896 [==============================] - 3s 4ms/step - loss: 0.0665 - accuracy: 0.9615 - val_loss: 6.8966 - val_accuracy: 0.6347\n",
      "Epoch 147/200\n",
      "896/896 [==============================] - 4s 4ms/step - loss: 0.0665 - accuracy: 0.9611 - val_loss: 7.0766 - val_accuracy: 0.6360\n",
      "Epoch 148/200\n",
      "896/896 [==============================] - 3s 4ms/step - loss: 0.0666 - accuracy: 0.9614 - val_loss: 7.1060 - val_accuracy: 0.6324\n",
      "Epoch 149/200\n",
      "896/896 [==============================] - 4s 4ms/step - loss: 0.0666 - accuracy: 0.9610 - val_loss: 7.3040 - val_accuracy: 0.6329\n",
      "Epoch 150/200\n",
      "896/896 [==============================] - 4s 4ms/step - loss: 0.0670 - accuracy: 0.9607 - val_loss: 6.4361 - val_accuracy: 0.6338\n",
      "Epoch 151/200\n",
      "896/896 [==============================] - 4s 4ms/step - loss: 0.0669 - accuracy: 0.9611 - val_loss: 6.8157 - val_accuracy: 0.6356\n",
      "Epoch 152/200\n",
      "896/896 [==============================] - 3s 4ms/step - loss: 0.0668 - accuracy: 0.9615 - val_loss: 6.8751 - val_accuracy: 0.6329\n",
      "Epoch 153/200\n",
      "896/896 [==============================] - 4s 4ms/step - loss: 0.0698 - accuracy: 0.9611 - val_loss: 3.7148 - val_accuracy: 0.6373\n",
      "Epoch 154/200\n",
      "896/896 [==============================] - 3s 4ms/step - loss: 0.0667 - accuracy: 0.9615 - val_loss: 4.7829 - val_accuracy: 0.6347\n",
      "Epoch 155/200\n",
      "896/896 [==============================] - 3s 4ms/step - loss: 0.0666 - accuracy: 0.9613 - val_loss: 5.2762 - val_accuracy: 0.6369\n",
      "Epoch 156/200\n",
      "896/896 [==============================] - 3s 4ms/step - loss: 0.0666 - accuracy: 0.9615 - val_loss: 5.4806 - val_accuracy: 0.6356\n",
      "Epoch 157/200\n",
      "896/896 [==============================] - 4s 4ms/step - loss: 0.0666 - accuracy: 0.9615 - val_loss: 5.7493 - val_accuracy: 0.6351\n",
      "Epoch 158/200\n",
      "896/896 [==============================] - 4s 4ms/step - loss: 0.0666 - accuracy: 0.9615 - val_loss: 5.9375 - val_accuracy: 0.6356\n",
      "Epoch 159/200\n",
      "896/896 [==============================] - 4s 4ms/step - loss: 0.0667 - accuracy: 0.9615 - val_loss: 5.8622 - val_accuracy: 0.6369\n",
      "Epoch 160/200\n",
      "896/896 [==============================] - 3s 4ms/step - loss: 0.0666 - accuracy: 0.9614 - val_loss: 5.9611 - val_accuracy: 0.6378\n",
      "Epoch 161/200\n",
      "896/896 [==============================] - 4s 4ms/step - loss: 0.0665 - accuracy: 0.9614 - val_loss: 6.0981 - val_accuracy: 0.6378\n",
      "Epoch 162/200\n",
      "896/896 [==============================] - 3s 4ms/step - loss: 0.0665 - accuracy: 0.9613 - val_loss: 6.9023 - val_accuracy: 0.6364\n",
      "Epoch 163/200\n",
      "896/896 [==============================] - 4s 4ms/step - loss: 0.0666 - accuracy: 0.9614 - val_loss: 7.1699 - val_accuracy: 0.6364\n",
      "Epoch 164/200\n",
      "896/896 [==============================] - 3s 4ms/step - loss: 0.0666 - accuracy: 0.9615 - val_loss: 7.3192 - val_accuracy: 0.6360\n",
      "Epoch 165/200\n",
      "896/896 [==============================] - 4s 4ms/step - loss: 0.0666 - accuracy: 0.9615 - val_loss: 7.4903 - val_accuracy: 0.6351\n",
      "Epoch 166/200\n",
      "896/896 [==============================] - 4s 4ms/step - loss: 0.0666 - accuracy: 0.9609 - val_loss: 7.8366 - val_accuracy: 0.6360\n",
      "Epoch 167/200\n",
      "896/896 [==============================] - 4s 4ms/step - loss: 0.0665 - accuracy: 0.9610 - val_loss: 8.1058 - val_accuracy: 0.6364\n",
      "Epoch 168/200\n",
      "896/896 [==============================] - 3s 4ms/step - loss: 0.0667 - accuracy: 0.9613 - val_loss: 7.4569 - val_accuracy: 0.6351\n",
      "Epoch 169/200\n",
      "896/896 [==============================] - 4s 4ms/step - loss: 0.0678 - accuracy: 0.9610 - val_loss: 5.4912 - val_accuracy: 0.6351\n",
      "Epoch 170/200\n",
      "896/896 [==============================] - 3s 4ms/step - loss: 0.0666 - accuracy: 0.9613 - val_loss: 5.5815 - val_accuracy: 0.6356\n",
      "Epoch 171/200\n",
      "896/896 [==============================] - 4s 4ms/step - loss: 0.0666 - accuracy: 0.9613 - val_loss: 5.8835 - val_accuracy: 0.6364\n",
      "Epoch 172/200\n",
      "896/896 [==============================] - 3s 4ms/step - loss: 0.0666 - accuracy: 0.9610 - val_loss: 5.9600 - val_accuracy: 0.6333\n",
      "Epoch 173/200\n",
      "896/896 [==============================] - 3s 4ms/step - loss: 0.0665 - accuracy: 0.9610 - val_loss: 6.4207 - val_accuracy: 0.6360\n",
      "Epoch 174/200\n",
      "896/896 [==============================] - 3s 4ms/step - loss: 0.0666 - accuracy: 0.9600 - val_loss: 6.2349 - val_accuracy: 0.6338\n",
      "Epoch 175/200\n",
      "896/896 [==============================] - 4s 4ms/step - loss: 0.0665 - accuracy: 0.9615 - val_loss: 6.4527 - val_accuracy: 0.6338\n",
      "Epoch 176/200\n",
      "896/896 [==============================] - 4s 4ms/step - loss: 0.0665 - accuracy: 0.9611 - val_loss: 6.5388 - val_accuracy: 0.6351\n",
      "Epoch 177/200\n",
      "896/896 [==============================] - 3s 4ms/step - loss: 0.0666 - accuracy: 0.9613 - val_loss: 6.9190 - val_accuracy: 0.6356\n",
      "Epoch 178/200\n",
      "896/896 [==============================] - 4s 4ms/step - loss: 0.0665 - accuracy: 0.9615 - val_loss: 7.2893 - val_accuracy: 0.6369\n",
      "Epoch 179/200\n",
      "896/896 [==============================] - 4s 4ms/step - loss: 0.0666 - accuracy: 0.9605 - val_loss: 7.4124 - val_accuracy: 0.6373\n",
      "Epoch 180/200\n",
      "896/896 [==============================] - 3s 4ms/step - loss: 0.0664 - accuracy: 0.9610 - val_loss: 8.2057 - val_accuracy: 0.6364\n",
      "Epoch 181/200\n",
      "896/896 [==============================] - 4s 4ms/step - loss: 0.0670 - accuracy: 0.9616 - val_loss: 7.9711 - val_accuracy: 0.6360\n",
      "Epoch 182/200\n",
      "896/896 [==============================] - 4s 4ms/step - loss: 0.0667 - accuracy: 0.9609 - val_loss: 6.6247 - val_accuracy: 0.6360\n",
      "Epoch 183/200\n",
      "896/896 [==============================] - 4s 4ms/step - loss: 0.0666 - accuracy: 0.9610 - val_loss: 7.9039 - val_accuracy: 0.6347\n",
      "Epoch 184/200\n",
      "896/896 [==============================] - 4s 4ms/step - loss: 0.0665 - accuracy: 0.9614 - val_loss: 8.2717 - val_accuracy: 0.6333\n",
      "Epoch 185/200\n",
      "896/896 [==============================] - 3s 4ms/step - loss: 0.0665 - accuracy: 0.9613 - val_loss: 8.9099 - val_accuracy: 0.6333\n",
      "Epoch 186/200\n",
      "896/896 [==============================] - 4s 4ms/step - loss: 0.0665 - accuracy: 0.9615 - val_loss: 9.1242 - val_accuracy: 0.6347\n",
      "Epoch 187/200\n",
      "896/896 [==============================] - 3s 4ms/step - loss: 0.0668 - accuracy: 0.9601 - val_loss: 9.3709 - val_accuracy: 0.6369\n",
      "Epoch 188/200\n",
      "896/896 [==============================] - 3s 4ms/step - loss: 0.0665 - accuracy: 0.9611 - val_loss: 9.7155 - val_accuracy: 0.6351\n",
      "Epoch 189/200\n",
      "896/896 [==============================] - 4s 4ms/step - loss: 0.0665 - accuracy: 0.9608 - val_loss: 9.6650 - val_accuracy: 0.6356\n",
      "Epoch 190/200\n",
      "896/896 [==============================] - 4s 4ms/step - loss: 0.0665 - accuracy: 0.9610 - val_loss: 9.8242 - val_accuracy: 0.6364\n",
      "Epoch 191/200\n",
      "896/896 [==============================] - 4s 4ms/step - loss: 0.0666 - accuracy: 0.9607 - val_loss: 10.1594 - val_accuracy: 0.6347\n",
      "Epoch 192/200\n",
      "896/896 [==============================] - 4s 4ms/step - loss: 0.0665 - accuracy: 0.9614 - val_loss: 10.7689 - val_accuracy: 0.6329\n",
      "Epoch 193/200\n",
      "896/896 [==============================] - 3s 4ms/step - loss: 0.0665 - accuracy: 0.9611 - val_loss: 11.0605 - val_accuracy: 0.6324\n",
      "Epoch 194/200\n",
      "896/896 [==============================] - 4s 4ms/step - loss: 0.0665 - accuracy: 0.9613 - val_loss: 10.8292 - val_accuracy: 0.6338\n",
      "Epoch 195/200\n",
      "896/896 [==============================] - 4s 4ms/step - loss: 0.0668 - accuracy: 0.9613 - val_loss: 11.3416 - val_accuracy: 0.6333\n",
      "Epoch 196/200\n",
      "896/896 [==============================] - 4s 4ms/step - loss: 0.0771 - accuracy: 0.9601 - val_loss: 9.7283 - val_accuracy: 0.6329\n",
      "Epoch 197/200\n",
      "896/896 [==============================] - 3s 4ms/step - loss: 0.0665 - accuracy: 0.9610 - val_loss: 9.7253 - val_accuracy: 0.6329\n",
      "Epoch 198/200\n",
      "896/896 [==============================] - 4s 4ms/step - loss: 0.0665 - accuracy: 0.9611 - val_loss: 9.7342 - val_accuracy: 0.6324\n",
      "Epoch 199/200\n",
      "896/896 [==============================] - 4s 4ms/step - loss: 0.0665 - accuracy: 0.9609 - val_loss: 9.6901 - val_accuracy: 0.6333\n",
      "Epoch 200/200\n",
      "896/896 [==============================] - 4s 4ms/step - loss: 0.0665 - accuracy: 0.9615 - val_loss: 9.7193 - val_accuracy: 0.6324\n"
     ]
    }
   ],
   "source": [
    "history = model.fit(x_train,y_train, epochs=200,batch_size=10, validation_data=(x_test, y_test))"
   ]
  },
  {
   "cell_type": "markdown",
   "metadata": {},
   "source": [
    "# We would like to change hidden layers, neurons, learning rate, loss and output layer as softmax\n",
    "# To see if we get different results\n",
    "# 3) New DNN"
   ]
  },
  {
   "cell_type": "markdown",
   "metadata": {},
   "source": [
    "# Step 1) Build the model"
   ]
  },
  {
   "cell_type": "code",
   "execution_count": 57,
   "metadata": {},
   "outputs": [],
   "source": [
    "from tensorflow.keras import regularizers # To change learning rate import regularizers\n",
    "\n",
    "new_model = tf.keras.models.Sequential()\n",
    "\n",
    "\n",
    "new_model.add(layers.Dense(800, activation='relu', kernel_regularizer=regularizers.l2(0.0001), input_dim=x_train.shape[1]))\n",
    "\n",
    "\n",
    "new_model.add(layers.Dense(700, kernel_regularizer=regularizers.l2(0.001), activation='relu'))\n",
    "\n",
    "\n",
    "new_model.add(layers.Dense(750, kernel_regularizer=regularizers.l2(0.001), activation='relu'))\n",
    "\n",
    "\n",
    "new_model.add(layers.Dense(750, kernel_regularizer=regularizers.l2(0.001), activation='relu'))\n",
    "\n",
    "\n",
    "new_model.add(layers.Dense(400, kernel_regularizer=regularizers.l2(0.001), activation='relu'))\n",
    "\n",
    "\n",
    "new_model.add(layers.Dense(100, kernel_regularizer=regularizers.l2(0.001),  activation='relu'))\n",
    "\n",
    "\n",
    "new_model.add(layers.Dense(8, kernel_regularizer=regularizers.l2(0.001), activation='softmax'))\n",
    "\n"
   ]
  },
  {
   "cell_type": "code",
   "execution_count": 44,
   "metadata": {},
   "outputs": [],
   "source": [
    "new_model.compile(loss='SparseCategoricalCrossentropy', optimizer = tf.keras.optimizers.Adam(lr=0.0001), metrics=['accuracy'])"
   ]
  },
  {
   "cell_type": "markdown",
   "metadata": {},
   "source": [
    "## Step 3) Fit the model"
   ]
  },
  {
   "cell_type": "code",
   "execution_count": 45,
   "metadata": {},
   "outputs": [
    {
     "name": "stdout",
     "output_type": "stream",
     "text": [
      "Epoch 1/150\n",
      "90/90 [==============================] - 4s 45ms/step - loss: 3.8169 - accuracy: 0.4768 - val_loss: 3.0364 - val_accuracy: 0.5060\n",
      "Epoch 2/150\n",
      "90/90 [==============================] - 4s 43ms/step - loss: 2.7223 - accuracy: 0.5895 - val_loss: 2.4324 - val_accuracy: 0.6373\n",
      "Epoch 3/150\n",
      "90/90 [==============================] - 4s 44ms/step - loss: 2.1151 - accuracy: 0.7500 - val_loss: 2.0820 - val_accuracy: 0.6606\n",
      "Epoch 4/150\n",
      "90/90 [==============================] - 4s 44ms/step - loss: 1.6549 - accuracy: 0.8440 - val_loss: 1.9537 - val_accuracy: 0.6632\n",
      "Epoch 5/150\n",
      "90/90 [==============================] - 4s 44ms/step - loss: 1.3369 - accuracy: 0.8994 - val_loss: 1.9778 - val_accuracy: 0.6539\n",
      "Epoch 6/150\n",
      "90/90 [==============================] - 4s 45ms/step - loss: 1.1195 - accuracy: 0.9283 - val_loss: 2.0415 - val_accuracy: 0.6454\n",
      "Epoch 7/150\n",
      "90/90 [==============================] - 4s 44ms/step - loss: 0.9684 - accuracy: 0.9436 - val_loss: 2.0132 - val_accuracy: 0.6543\n",
      "Epoch 8/150\n",
      "90/90 [==============================] - 4s 44ms/step - loss: 0.8609 - accuracy: 0.9492 - val_loss: 2.0269 - val_accuracy: 0.6271\n",
      "Epoch 9/150\n",
      "90/90 [==============================] - 4s 44ms/step - loss: 0.7820 - accuracy: 0.9481 - val_loss: 1.9529 - val_accuracy: 0.6396\n",
      "Epoch 10/150\n",
      "90/90 [==============================] - 4s 45ms/step - loss: 0.7141 - accuracy: 0.9506 - val_loss: 1.9378 - val_accuracy: 0.6369\n",
      "Epoch 11/150\n",
      "90/90 [==============================] - 4s 46ms/step - loss: 0.6584 - accuracy: 0.9531 - val_loss: 1.8851 - val_accuracy: 0.6431\n",
      "Epoch 12/150\n",
      "90/90 [==============================] - 4s 47ms/step - loss: 0.6104 - accuracy: 0.9533 - val_loss: 1.9008 - val_accuracy: 0.6213\n",
      "Epoch 13/150\n",
      "90/90 [==============================] - 5s 51ms/step - loss: 0.5734 - accuracy: 0.9551 - val_loss: 1.8340 - val_accuracy: 0.6396\n",
      "Epoch 14/150\n",
      "90/90 [==============================] - 4s 50ms/step - loss: 0.5387 - accuracy: 0.9523 - val_loss: 1.8256 - val_accuracy: 0.6414\n",
      "Epoch 15/150\n",
      "90/90 [==============================] - 4s 50ms/step - loss: 0.5101 - accuracy: 0.9531 - val_loss: 1.7546 - val_accuracy: 0.6382\n",
      "Epoch 16/150\n",
      "90/90 [==============================] - 5s 52ms/step - loss: 0.4810 - accuracy: 0.9531 - val_loss: 1.7570 - val_accuracy: 0.6271\n",
      "Epoch 17/150\n",
      "90/90 [==============================] - 4s 47ms/step - loss: 0.4627 - accuracy: 0.9524 - val_loss: 1.7607 - val_accuracy: 0.6449\n",
      "Epoch 18/150\n",
      "90/90 [==============================] - 4s 47ms/step - loss: 0.4378 - accuracy: 0.9569 - val_loss: 1.6796 - val_accuracy: 0.6378\n",
      "Epoch 19/150\n",
      "90/90 [==============================] - 4s 48ms/step - loss: 0.4124 - accuracy: 0.9573 - val_loss: 1.6986 - val_accuracy: 0.6342\n",
      "Epoch 20/150\n",
      "90/90 [==============================] - 4s 47ms/step - loss: 0.4002 - accuracy: 0.9544 - val_loss: 1.6569 - val_accuracy: 0.6387\n",
      "Epoch 21/150\n",
      "90/90 [==============================] - 4s 49ms/step - loss: 0.3807 - accuracy: 0.9547 - val_loss: 1.6220 - val_accuracy: 0.6333\n",
      "Epoch 22/150\n",
      "90/90 [==============================] - 4s 49ms/step - loss: 0.3628 - accuracy: 0.9557 - val_loss: 1.6381 - val_accuracy: 0.6396\n",
      "Epoch 23/150\n",
      "90/90 [==============================] - 5s 54ms/step - loss: 0.3501 - accuracy: 0.9548 - val_loss: 1.5914 - val_accuracy: 0.6391\n",
      "Epoch 24/150\n",
      "90/90 [==============================] - 5s 50ms/step - loss: 0.3364 - accuracy: 0.9553 - val_loss: 1.5924 - val_accuracy: 0.6391\n",
      "Epoch 25/150\n",
      "90/90 [==============================] - 5s 50ms/step - loss: 0.3233 - accuracy: 0.9554 - val_loss: 1.5628 - val_accuracy: 0.6378\n",
      "Epoch 26/150\n",
      "90/90 [==============================] - 4s 48ms/step - loss: 0.3146 - accuracy: 0.9546 - val_loss: 1.5595 - val_accuracy: 0.6414\n",
      "Epoch 27/150\n",
      "90/90 [==============================] - 4s 49ms/step - loss: 0.3047 - accuracy: 0.9535 - val_loss: 1.6191 - val_accuracy: 0.6382\n",
      "Epoch 28/150\n",
      "90/90 [==============================] - 4s 47ms/step - loss: 0.2962 - accuracy: 0.9537 - val_loss: 1.5703 - val_accuracy: 0.6351\n",
      "Epoch 29/150\n",
      "90/90 [==============================] - 4s 48ms/step - loss: 0.2859 - accuracy: 0.9556 - val_loss: 1.5505 - val_accuracy: 0.6436\n",
      "Epoch 30/150\n",
      "90/90 [==============================] - 4s 48ms/step - loss: 0.2768 - accuracy: 0.9550 - val_loss: 1.5477 - val_accuracy: 0.6230\n",
      "Epoch 31/150\n",
      "90/90 [==============================] - 4s 48ms/step - loss: 0.2715 - accuracy: 0.9505 - val_loss: 1.5611 - val_accuracy: 0.6150\n",
      "Epoch 32/150\n",
      "90/90 [==============================] - 4s 49ms/step - loss: 0.2671 - accuracy: 0.9534 - val_loss: 1.5422 - val_accuracy: 0.6396\n",
      "Epoch 33/150\n",
      "90/90 [==============================] - 4s 47ms/step - loss: 0.2551 - accuracy: 0.9548 - val_loss: 1.5305 - val_accuracy: 0.6369\n",
      "Epoch 34/150\n",
      "90/90 [==============================] - 4s 48ms/step - loss: 0.2484 - accuracy: 0.9554 - val_loss: 1.5213 - val_accuracy: 0.6342\n",
      "Epoch 35/150\n",
      "90/90 [==============================] - 4s 48ms/step - loss: 0.2423 - accuracy: 0.9533 - val_loss: 1.5241 - val_accuracy: 0.6423\n",
      "Epoch 36/150\n",
      "90/90 [==============================] - 4s 49ms/step - loss: 0.2395 - accuracy: 0.9535 - val_loss: 1.4816 - val_accuracy: 0.6364\n",
      "Epoch 37/150\n",
      "90/90 [==============================] - 4s 49ms/step - loss: 0.2300 - accuracy: 0.9577 - val_loss: 1.5550 - val_accuracy: 0.6146\n",
      "Epoch 38/150\n",
      "90/90 [==============================] - 4s 50ms/step - loss: 0.2259 - accuracy: 0.9562 - val_loss: 1.5253 - val_accuracy: 0.6253\n",
      "Epoch 39/150\n",
      "90/90 [==============================] - 4s 50ms/step - loss: 0.2221 - accuracy: 0.9541 - val_loss: 1.4924 - val_accuracy: 0.6356\n",
      "Epoch 40/150\n",
      "90/90 [==============================] - 5s 51ms/step - loss: 0.2159 - accuracy: 0.9537 - val_loss: 1.4855 - val_accuracy: 0.6271\n",
      "Epoch 41/150\n",
      "90/90 [==============================] - 4s 48ms/step - loss: 0.2116 - accuracy: 0.9554 - val_loss: 1.4813 - val_accuracy: 0.6391\n",
      "Epoch 42/150\n",
      "90/90 [==============================] - 4s 49ms/step - loss: 0.2082 - accuracy: 0.9543 - val_loss: 1.4462 - val_accuracy: 0.6423\n",
      "Epoch 43/150\n",
      "90/90 [==============================] - 5s 51ms/step - loss: 0.2032 - accuracy: 0.9550 - val_loss: 1.4630 - val_accuracy: 0.6423\n",
      "Epoch 44/150\n",
      "90/90 [==============================] - 4s 50ms/step - loss: 0.1981 - accuracy: 0.9547 - val_loss: 1.4942 - val_accuracy: 0.6409\n",
      "Epoch 45/150\n",
      "90/90 [==============================] - 4s 48ms/step - loss: 0.1993 - accuracy: 0.9535 - val_loss: 1.4198 - val_accuracy: 0.6226\n",
      "Epoch 46/150\n",
      "90/90 [==============================] - 4s 48ms/step - loss: 0.1988 - accuracy: 0.9515 - val_loss: 1.4392 - val_accuracy: 0.6391\n",
      "Epoch 47/150\n",
      "90/90 [==============================] - 4s 49ms/step - loss: 0.1900 - accuracy: 0.9566 - val_loss: 1.4703 - val_accuracy: 0.6342\n",
      "Epoch 48/150\n",
      "90/90 [==============================] - 4s 49ms/step - loss: 0.1932 - accuracy: 0.9527 - val_loss: 1.4866 - val_accuracy: 0.6449\n",
      "Epoch 49/150\n",
      "90/90 [==============================] - 4s 49ms/step - loss: 0.1853 - accuracy: 0.9558 - val_loss: 1.4711 - val_accuracy: 0.6351\n",
      "Epoch 50/150\n",
      "90/90 [==============================] - 4s 48ms/step - loss: 0.1860 - accuracy: 0.9528 - val_loss: 1.4341 - val_accuracy: 0.6400\n",
      "Epoch 51/150\n",
      "90/90 [==============================] - 4s 49ms/step - loss: 0.1822 - accuracy: 0.9553 - val_loss: 1.4607 - val_accuracy: 0.6405\n",
      "Epoch 52/150\n",
      "90/90 [==============================] - 4s 49ms/step - loss: 0.1795 - accuracy: 0.9537 - val_loss: 1.4325 - val_accuracy: 0.6409\n",
      "Epoch 53/150\n",
      "90/90 [==============================] - 5s 53ms/step - loss: 0.1744 - accuracy: 0.9563 - val_loss: 1.4496 - val_accuracy: 0.6463\n",
      "Epoch 54/150\n",
      "90/90 [==============================] - 4s 50ms/step - loss: 0.1731 - accuracy: 0.9560 - val_loss: 1.4069 - val_accuracy: 0.6436\n",
      "Epoch 55/150\n",
      "90/90 [==============================] - 4s 50ms/step - loss: 0.1722 - accuracy: 0.9535 - val_loss: 1.4369 - val_accuracy: 0.6387\n",
      "Epoch 56/150\n",
      "90/90 [==============================] - 4s 49ms/step - loss: 0.1691 - accuracy: 0.9539 - val_loss: 1.4325 - val_accuracy: 0.6414\n",
      "Epoch 57/150\n",
      "90/90 [==============================] - 4s 49ms/step - loss: 0.1693 - accuracy: 0.9515 - val_loss: 1.3868 - val_accuracy: 0.6472\n",
      "Epoch 58/150\n",
      "90/90 [==============================] - 5s 51ms/step - loss: 0.1636 - accuracy: 0.9548 - val_loss: 1.4329 - val_accuracy: 0.6458\n",
      "Epoch 59/150\n",
      "90/90 [==============================] - 4s 49ms/step - loss: 0.1661 - accuracy: 0.9550 - val_loss: 1.4193 - val_accuracy: 0.6494\n",
      "Epoch 60/150\n",
      "90/90 [==============================] - 5s 51ms/step - loss: 0.1642 - accuracy: 0.9541 - val_loss: 1.4378 - val_accuracy: 0.6271\n",
      "Epoch 61/150\n",
      "90/90 [==============================] - 4s 49ms/step - loss: 0.1616 - accuracy: 0.9553 - val_loss: 1.3887 - val_accuracy: 0.6427\n",
      "Epoch 62/150\n",
      "90/90 [==============================] - 4s 48ms/step - loss: 0.1576 - accuracy: 0.9566 - val_loss: 1.4217 - val_accuracy: 0.6387\n",
      "Epoch 63/150\n",
      "90/90 [==============================] - 4s 50ms/step - loss: 0.1560 - accuracy: 0.9564 - val_loss: 1.4049 - val_accuracy: 0.6431\n",
      "Epoch 64/150\n",
      "90/90 [==============================] - 4s 50ms/step - loss: 0.1540 - accuracy: 0.9547 - val_loss: 1.4013 - val_accuracy: 0.6418\n",
      "Epoch 65/150\n",
      "90/90 [==============================] - 4s 49ms/step - loss: 0.1546 - accuracy: 0.9542 - val_loss: 1.3979 - val_accuracy: 0.6257\n",
      "Epoch 66/150\n",
      "90/90 [==============================] - 4s 50ms/step - loss: 0.1541 - accuracy: 0.9558 - val_loss: 1.3626 - val_accuracy: 0.6244\n",
      "Epoch 67/150\n",
      "90/90 [==============================] - 5s 51ms/step - loss: 0.1526 - accuracy: 0.9552 - val_loss: 1.3668 - val_accuracy: 0.6391\n",
      "Epoch 68/150\n",
      "90/90 [==============================] - 4s 50ms/step - loss: 0.1525 - accuracy: 0.9544 - val_loss: 1.3712 - val_accuracy: 0.6414\n",
      "Epoch 69/150\n",
      "90/90 [==============================] - 4s 50ms/step - loss: 0.1518 - accuracy: 0.9523 - val_loss: 1.3821 - val_accuracy: 0.6302\n",
      "Epoch 70/150\n",
      "90/90 [==============================] - 4s 50ms/step - loss: 0.1520 - accuracy: 0.9534 - val_loss: 1.3662 - val_accuracy: 0.6257\n",
      "Epoch 71/150\n",
      "90/90 [==============================] - 5s 51ms/step - loss: 0.1520 - accuracy: 0.9558 - val_loss: 1.4378 - val_accuracy: 0.6244\n",
      "Epoch 72/150\n",
      "90/90 [==============================] - 5s 51ms/step - loss: 0.1500 - accuracy: 0.9547 - val_loss: 1.4040 - val_accuracy: 0.6436\n",
      "Epoch 73/150\n",
      "90/90 [==============================] - 5s 50ms/step - loss: 0.1496 - accuracy: 0.9538 - val_loss: 1.3552 - val_accuracy: 0.6217\n",
      "Epoch 74/150\n",
      "90/90 [==============================] - 5s 51ms/step - loss: 0.1463 - accuracy: 0.9544 - val_loss: 1.3755 - val_accuracy: 0.6391\n",
      "Epoch 75/150\n",
      "90/90 [==============================] - 4s 48ms/step - loss: 0.1513 - accuracy: 0.9508 - val_loss: 1.3412 - val_accuracy: 0.6391\n",
      "Epoch 76/150\n",
      "90/90 [==============================] - 5s 53ms/step - loss: 0.1503 - accuracy: 0.9533 - val_loss: 1.3699 - val_accuracy: 0.6369\n",
      "Epoch 77/150\n",
      "90/90 [==============================] - 5s 50ms/step - loss: 0.1447 - accuracy: 0.9547 - val_loss: 1.3660 - val_accuracy: 0.6382\n",
      "Epoch 78/150\n",
      "90/90 [==============================] - 5s 51ms/step - loss: 0.1427 - accuracy: 0.9551 - val_loss: 1.3535 - val_accuracy: 0.6405\n",
      "Epoch 79/150\n",
      "90/90 [==============================] - 5s 51ms/step - loss: 0.1407 - accuracy: 0.9561 - val_loss: 1.3805 - val_accuracy: 0.6427\n",
      "Epoch 80/150\n",
      "90/90 [==============================] - 5s 51ms/step - loss: 0.1421 - accuracy: 0.9533 - val_loss: 1.3423 - val_accuracy: 0.6449\n",
      "Epoch 81/150\n",
      "90/90 [==============================] - 5s 54ms/step - loss: 0.1393 - accuracy: 0.9566 - val_loss: 1.3404 - val_accuracy: 0.6427\n",
      "Epoch 82/150\n",
      "90/90 [==============================] - 5s 52ms/step - loss: 0.1379 - accuracy: 0.9558 - val_loss: 1.3541 - val_accuracy: 0.6445\n",
      "Epoch 83/150\n",
      "90/90 [==============================] - 5s 53ms/step - loss: 0.1374 - accuracy: 0.9560 - val_loss: 1.3663 - val_accuracy: 0.6360\n",
      "Epoch 84/150\n",
      "90/90 [==============================] - 5s 54ms/step - loss: 0.1405 - accuracy: 0.9537 - val_loss: 1.3693 - val_accuracy: 0.6248\n",
      "Epoch 85/150\n",
      "90/90 [==============================] - 5s 52ms/step - loss: 0.1387 - accuracy: 0.9540 - val_loss: 1.3789 - val_accuracy: 0.6436\n",
      "Epoch 86/150\n",
      "90/90 [==============================] - 5s 52ms/step - loss: 0.1386 - accuracy: 0.9531 - val_loss: 1.3437 - val_accuracy: 0.6382\n",
      "Epoch 87/150\n",
      "90/90 [==============================] - 4s 49ms/step - loss: 0.1380 - accuracy: 0.9527 - val_loss: 1.3829 - val_accuracy: 0.6431\n",
      "Epoch 88/150\n",
      "90/90 [==============================] - 5s 52ms/step - loss: 0.1382 - accuracy: 0.9547 - val_loss: 1.3543 - val_accuracy: 0.6396\n",
      "Epoch 89/150\n",
      "90/90 [==============================] - 5s 51ms/step - loss: 0.1346 - accuracy: 0.9558 - val_loss: 1.3838 - val_accuracy: 0.6423\n",
      "Epoch 90/150\n",
      "90/90 [==============================] - 5s 51ms/step - loss: 0.1354 - accuracy: 0.9552 - val_loss: 1.3326 - val_accuracy: 0.6405\n",
      "Epoch 91/150\n",
      "90/90 [==============================] - 5s 51ms/step - loss: 0.1319 - accuracy: 0.9537 - val_loss: 1.3696 - val_accuracy: 0.6414\n",
      "Epoch 92/150\n",
      "90/90 [==============================] - 5s 52ms/step - loss: 0.1352 - accuracy: 0.9549 - val_loss: 1.3175 - val_accuracy: 0.6414\n",
      "Epoch 93/150\n",
      "90/90 [==============================] - 5s 51ms/step - loss: 0.1322 - accuracy: 0.9557 - val_loss: 1.3680 - val_accuracy: 0.6373\n",
      "Epoch 94/150\n",
      "90/90 [==============================] - 5s 52ms/step - loss: 0.1326 - accuracy: 0.9553 - val_loss: 1.3597 - val_accuracy: 0.6396\n",
      "Epoch 95/150\n",
      "90/90 [==============================] - 5s 52ms/step - loss: 0.1375 - accuracy: 0.9524 - val_loss: 1.3408 - val_accuracy: 0.6360\n",
      "Epoch 96/150\n",
      "90/90 [==============================] - 5s 53ms/step - loss: 0.1359 - accuracy: 0.9541 - val_loss: 1.3603 - val_accuracy: 0.6418\n",
      "Epoch 97/150\n",
      "90/90 [==============================] - 5s 53ms/step - loss: 0.1319 - accuracy: 0.9560 - val_loss: 1.3404 - val_accuracy: 0.6405\n",
      "Epoch 98/150\n",
      "90/90 [==============================] - 5s 54ms/step - loss: 0.1299 - accuracy: 0.9570 - val_loss: 1.3365 - val_accuracy: 0.6378\n",
      "Epoch 99/150\n",
      "90/90 [==============================] - 5s 54ms/step - loss: 0.1285 - accuracy: 0.9554 - val_loss: 1.3448 - val_accuracy: 0.6409\n",
      "Epoch 100/150\n",
      "90/90 [==============================] - 5s 54ms/step - loss: 0.1323 - accuracy: 0.9552 - val_loss: 1.3377 - val_accuracy: 0.6431\n",
      "Epoch 101/150\n",
      "90/90 [==============================] - 5s 60ms/step - loss: 0.1280 - accuracy: 0.9582 - val_loss: 1.3828 - val_accuracy: 0.6320\n",
      "Epoch 102/150\n",
      "90/90 [==============================] - 5s 61ms/step - loss: 0.1296 - accuracy: 0.9532 - val_loss: 1.3334 - val_accuracy: 0.6485\n",
      "Epoch 103/150\n",
      "90/90 [==============================] - 5s 54ms/step - loss: 0.1286 - accuracy: 0.9561 - val_loss: 1.3632 - val_accuracy: 0.6172\n",
      "Epoch 104/150\n",
      "90/90 [==============================] - 5s 51ms/step - loss: 0.1300 - accuracy: 0.9543 - val_loss: 1.3919 - val_accuracy: 0.6347\n",
      "Epoch 105/150\n",
      "90/90 [==============================] - 4s 49ms/step - loss: 0.1311 - accuracy: 0.9542 - val_loss: 1.3274 - val_accuracy: 0.6405\n",
      "Epoch 106/150\n",
      "90/90 [==============================] - 5s 55ms/step - loss: 0.1278 - accuracy: 0.9562 - val_loss: 1.3195 - val_accuracy: 0.6382\n",
      "Epoch 107/150\n",
      "90/90 [==============================] - 6s 62ms/step - loss: 0.1261 - accuracy: 0.9548 - val_loss: 1.3342 - val_accuracy: 0.6387\n",
      "Epoch 108/150\n",
      "90/90 [==============================] - 5s 55ms/step - loss: 0.1269 - accuracy: 0.9547 - val_loss: 1.3589 - val_accuracy: 0.6204\n",
      "Epoch 109/150\n",
      "90/90 [==============================] - 5s 52ms/step - loss: 0.1278 - accuracy: 0.9546 - val_loss: 1.3265 - val_accuracy: 0.6257\n",
      "Epoch 110/150\n",
      "90/90 [==============================] - 4s 49ms/step - loss: 0.1261 - accuracy: 0.9553 - val_loss: 1.3153 - val_accuracy: 0.6431\n",
      "Epoch 111/150\n",
      "90/90 [==============================] - 4s 49ms/step - loss: 0.1244 - accuracy: 0.9570 - val_loss: 1.3236 - val_accuracy: 0.6423\n",
      "Epoch 112/150\n",
      "90/90 [==============================] - 4s 49ms/step - loss: 0.1260 - accuracy: 0.9543 - val_loss: 1.3152 - val_accuracy: 0.6414\n",
      "Epoch 113/150\n",
      "90/90 [==============================] - 4s 48ms/step - loss: 0.1265 - accuracy: 0.9557 - val_loss: 1.3338 - val_accuracy: 0.6396\n",
      "Epoch 114/150\n",
      "90/90 [==============================] - 5s 51ms/step - loss: 0.1249 - accuracy: 0.9549 - val_loss: 1.3269 - val_accuracy: 0.6235\n",
      "Epoch 115/150\n",
      "90/90 [==============================] - 5s 50ms/step - loss: 0.1243 - accuracy: 0.9557 - val_loss: 1.3124 - val_accuracy: 0.6409\n",
      "Epoch 116/150\n",
      "90/90 [==============================] - 5s 50ms/step - loss: 0.1248 - accuracy: 0.9563 - val_loss: 1.3195 - val_accuracy: 0.6369\n",
      "Epoch 117/150\n",
      "90/90 [==============================] - 5s 50ms/step - loss: 0.1288 - accuracy: 0.9549 - val_loss: 1.3278 - val_accuracy: 0.6396\n",
      "Epoch 118/150\n",
      "90/90 [==============================] - 5s 55ms/step - loss: 0.1282 - accuracy: 0.9553 - val_loss: 1.3318 - val_accuracy: 0.6409\n",
      "Epoch 119/150\n",
      "90/90 [==============================] - 4s 49ms/step - loss: 0.1235 - accuracy: 0.9579 - val_loss: 1.3346 - val_accuracy: 0.6418\n",
      "Epoch 120/150\n",
      "90/90 [==============================] - 4s 49ms/step - loss: 0.1218 - accuracy: 0.9546 - val_loss: 1.3267 - val_accuracy: 0.6373\n",
      "Epoch 121/150\n",
      "90/90 [==============================] - 5s 50ms/step - loss: 0.1231 - accuracy: 0.9552 - val_loss: 1.3187 - val_accuracy: 0.6369\n",
      "Epoch 122/150\n",
      "90/90 [==============================] - 5s 51ms/step - loss: 0.1236 - accuracy: 0.9547 - val_loss: 1.3044 - val_accuracy: 0.6463\n",
      "Epoch 123/150\n",
      "90/90 [==============================] - 5s 57ms/step - loss: 0.1207 - accuracy: 0.9547 - val_loss: 1.3435 - val_accuracy: 0.6409\n",
      "Epoch 124/150\n",
      "90/90 [==============================] - 5s 52ms/step - loss: 0.1228 - accuracy: 0.9554 - val_loss: 1.3225 - val_accuracy: 0.6463\n",
      "Epoch 125/150\n",
      "90/90 [==============================] - 5s 55ms/step - loss: 0.1222 - accuracy: 0.9560 - val_loss: 1.3244 - val_accuracy: 0.6423\n",
      "Epoch 126/150\n",
      "90/90 [==============================] - 5s 54ms/step - loss: 0.1210 - accuracy: 0.9560 - val_loss: 1.2987 - val_accuracy: 0.6467\n",
      "Epoch 127/150\n",
      "90/90 [==============================] - 5s 56ms/step - loss: 0.1214 - accuracy: 0.9561 - val_loss: 1.3379 - val_accuracy: 0.6418\n",
      "Epoch 128/150\n",
      "90/90 [==============================] - 5s 53ms/step - loss: 0.1212 - accuracy: 0.9541 - val_loss: 1.3325 - val_accuracy: 0.6257\n",
      "Epoch 129/150\n",
      "90/90 [==============================] - 4s 48ms/step - loss: 0.1209 - accuracy: 0.9549 - val_loss: 1.3339 - val_accuracy: 0.6467\n",
      "Epoch 130/150\n",
      "90/90 [==============================] - 5s 50ms/step - loss: 0.1219 - accuracy: 0.9548 - val_loss: 1.3193 - val_accuracy: 0.6382\n",
      "Epoch 131/150\n",
      "90/90 [==============================] - 4s 50ms/step - loss: 0.1234 - accuracy: 0.9552 - val_loss: 1.3099 - val_accuracy: 0.6396\n",
      "Epoch 132/150\n",
      "90/90 [==============================] - 5s 52ms/step - loss: 0.1210 - accuracy: 0.9570 - val_loss: 1.3386 - val_accuracy: 0.6262\n",
      "Epoch 133/150\n",
      "90/90 [==============================] - 5s 51ms/step - loss: 0.1209 - accuracy: 0.9529 - val_loss: 1.3201 - val_accuracy: 0.6463\n",
      "Epoch 134/150\n",
      "90/90 [==============================] - 5s 53ms/step - loss: 0.1211 - accuracy: 0.9550 - val_loss: 1.3099 - val_accuracy: 0.6467\n",
      "Epoch 135/150\n",
      "90/90 [==============================] - 5s 55ms/step - loss: 0.1207 - accuracy: 0.9548 - val_loss: 1.3211 - val_accuracy: 0.6454\n",
      "Epoch 136/150\n",
      "90/90 [==============================] - 5s 59ms/step - loss: 0.1218 - accuracy: 0.9542 - val_loss: 1.3137 - val_accuracy: 0.6449\n",
      "Epoch 137/150\n",
      "90/90 [==============================] - 6s 63ms/step - loss: 0.1208 - accuracy: 0.9560 - val_loss: 1.2902 - val_accuracy: 0.6498\n",
      "Epoch 138/150\n",
      "90/90 [==============================] - 5s 55ms/step - loss: 0.1182 - accuracy: 0.9560 - val_loss: 1.3136 - val_accuracy: 0.6230\n",
      "Epoch 139/150\n",
      "90/90 [==============================] - 5s 52ms/step - loss: 0.1192 - accuracy: 0.9554 - val_loss: 1.3245 - val_accuracy: 0.6445\n",
      "Epoch 140/150\n",
      "90/90 [==============================] - 5s 52ms/step - loss: 0.1192 - accuracy: 0.9547 - val_loss: 1.4019 - val_accuracy: 0.6391\n",
      "Epoch 141/150\n",
      "90/90 [==============================] - 5s 53ms/step - loss: 0.1199 - accuracy: 0.9551 - val_loss: 1.2919 - val_accuracy: 0.6431\n",
      "Epoch 142/150\n",
      "90/90 [==============================] - 5s 53ms/step - loss: 0.1183 - accuracy: 0.9577 - val_loss: 1.2932 - val_accuracy: 0.6431\n",
      "Epoch 143/150\n",
      "90/90 [==============================] - 5s 54ms/step - loss: 0.1173 - accuracy: 0.9568 - val_loss: 1.3363 - val_accuracy: 0.6463\n",
      "Epoch 144/150\n",
      "90/90 [==============================] - 5s 54ms/step - loss: 0.1176 - accuracy: 0.9567 - val_loss: 1.2906 - val_accuracy: 0.6476\n",
      "Epoch 145/150\n",
      "90/90 [==============================] - 5s 52ms/step - loss: 0.1173 - accuracy: 0.9553 - val_loss: 1.3150 - val_accuracy: 0.6414\n",
      "Epoch 146/150\n",
      "90/90 [==============================] - 5s 50ms/step - loss: 0.1192 - accuracy: 0.9537 - val_loss: 1.3157 - val_accuracy: 0.6248\n",
      "Epoch 147/150\n",
      "90/90 [==============================] - 5s 52ms/step - loss: 0.1175 - accuracy: 0.9546 - val_loss: 1.3115 - val_accuracy: 0.6436\n",
      "Epoch 148/150\n",
      "90/90 [==============================] - 5s 52ms/step - loss: 0.1170 - accuracy: 0.9562 - val_loss: 1.3069 - val_accuracy: 0.6248\n",
      "Epoch 149/150\n",
      "90/90 [==============================] - 5s 55ms/step - loss: 0.1154 - accuracy: 0.9588 - val_loss: 1.3322 - val_accuracy: 0.6454\n",
      "Epoch 150/150\n",
      "90/90 [==============================] - 5s 57ms/step - loss: 0.1172 - accuracy: 0.9551 - val_loss: 1.3123 - val_accuracy: 0.6382\n"
     ]
    }
   ],
   "source": [
    "new_history = new_model.fit(x_train,y_train, validation_data=(x_test, y_test), epochs=150, batch_size=100)"
   ]
  },
  {
   "cell_type": "markdown",
   "metadata": {},
   "source": [
    "### New DNN Model got slower and lost was high at the begining then started reducing\n",
    "### Validation loss was smaller than first DNN and Validation accuracy was same"
   ]
  },
  {
   "cell_type": "markdown",
   "metadata": {},
   "source": [
    "\n",
    "\n",
    "\n",
    "## Compare Results\n",
    "\n",
    "### 1ST DNN RESULTS\n",
    "### loss: 0.0668 - accuracy: 0.9615 - val_loss: 4.8648 - val_accuracy: 0.6440\n",
    "\n",
    "### 2ND DNN RESULTS\n",
    "### loss: 0.1188 - accuracy: 0.9551 - val_loss: 1.3398 - val_accuracy: 0.6414"
   ]
  },
  {
   "cell_type": "markdown",
   "metadata": {},
   "source": [
    "## New model has higher loss and lower accuracy"
   ]
  },
  {
   "cell_type": "markdown",
   "metadata": {},
   "source": [
    "# 4) DECISION TREE"
   ]
  },
  {
   "cell_type": "markdown",
   "metadata": {},
   "source": [
    "### Data is already splited"
   ]
  },
  {
   "cell_type": "markdown",
   "metadata": {},
   "source": [
    "### Train the data with single desicion tree"
   ]
  },
  {
   "cell_type": "code",
   "execution_count": 46,
   "metadata": {},
   "outputs": [
    {
     "data": {
      "text/plain": [
       "DecisionTreeClassifier(class_weight=None, criterion='gini', max_depth=None,\n",
       "                       max_features=None, max_leaf_nodes=None,\n",
       "                       min_impurity_decrease=0.0, min_impurity_split=None,\n",
       "                       min_samples_leaf=1, min_samples_split=2,\n",
       "                       min_weight_fraction_leaf=0.0, presort=False,\n",
       "                       random_state=None, splitter='best')"
      ]
     },
     "execution_count": 46,
     "metadata": {},
     "output_type": "execute_result"
    }
   ],
   "source": [
    "from sklearn.tree import DecisionTreeClassifier\n",
    "dtree = DecisionTreeClassifier()\n",
    "dtree.fit(x_train,y_train)"
   ]
  },
  {
   "cell_type": "markdown",
   "metadata": {},
   "source": [
    "### Prediction and Evaluation "
   ]
  },
  {
   "cell_type": "code",
   "execution_count": 47,
   "metadata": {},
   "outputs": [
    {
     "data": {
      "text/plain": [
       "array([1, 0, 0, ..., 1, 1, 1])"
      ]
     },
     "execution_count": 47,
     "metadata": {},
     "output_type": "execute_result"
    }
   ],
   "source": [
    "predictions = dtree.predict(x_test)\n",
    "predictions"
   ]
  },
  {
   "cell_type": "code",
   "execution_count": 48,
   "metadata": {},
   "outputs": [
    {
     "name": "stdout",
     "output_type": "stream",
     "text": [
      "              precision    recall  f1-score   support\n",
      "\n",
      "           0       0.64      0.60      0.62      1107\n",
      "           1       0.63      0.67      0.65      1132\n",
      "\n",
      "    accuracy                           0.64      2239\n",
      "   macro avg       0.64      0.64      0.64      2239\n",
      "weighted avg       0.64      0.64      0.64      2239\n",
      "\n",
      "[[666 441]\n",
      " [371 761]]\n"
     ]
    }
   ],
   "source": [
    "from sklearn.metrics import precision_recall_fscore_support,classification_report,confusion_matrix\n",
    "print(classification_report(y_test,predictions))\n",
    "print(confusion_matrix(y_test,predictions))"
   ]
  },
  {
   "cell_type": "markdown",
   "metadata": {},
   "source": [
    "# 5) Random Forests\n",
    "### Now we compare desicion tree to random forest"
   ]
  },
  {
   "cell_type": "code",
   "execution_count": 49,
   "metadata": {},
   "outputs": [
    {
     "data": {
      "text/plain": [
       "RandomForestClassifier(bootstrap=True, class_weight=None, criterion='gini',\n",
       "                       max_depth=None, max_features='auto', max_leaf_nodes=None,\n",
       "                       min_impurity_decrease=0.0, min_impurity_split=None,\n",
       "                       min_samples_leaf=1, min_samples_split=2,\n",
       "                       min_weight_fraction_leaf=0.0, n_estimators=100,\n",
       "                       n_jobs=None, oob_score=False, random_state=None,\n",
       "                       verbose=0, warm_start=False)"
      ]
     },
     "execution_count": 49,
     "metadata": {},
     "output_type": "execute_result"
    }
   ],
   "source": [
    "from sklearn.ensemble import RandomForestClassifier\n",
    "rfc = RandomForestClassifier(n_estimators=100)\n",
    "rfc.fit(x_train, y_train)"
   ]
  },
  {
   "cell_type": "code",
   "execution_count": 50,
   "metadata": {},
   "outputs": [
    {
     "data": {
      "text/plain": [
       "array([1, 0, 0, ..., 1, 1, 1])"
      ]
     },
     "execution_count": 50,
     "metadata": {},
     "output_type": "execute_result"
    }
   ],
   "source": [
    "rfc_pred = rfc.predict(x_test)\n",
    "rfc_pred"
   ]
  },
  {
   "cell_type": "code",
   "execution_count": 51,
   "metadata": {},
   "outputs": [
    {
     "data": {
      "text/plain": [
       "array([[0.24995267, 0.75004733],\n",
       "       [0.77230287, 0.22769713],\n",
       "       [0.72449469, 0.27550531],\n",
       "       ...,\n",
       "       [0.05      , 0.95      ],\n",
       "       [0.47076726, 0.52923274],\n",
       "       [0.06      , 0.94      ]])"
      ]
     },
     "execution_count": 51,
     "metadata": {},
     "output_type": "execute_result"
    }
   ],
   "source": [
    "rfc.predict_proba(x_test)"
   ]
  },
  {
   "cell_type": "code",
   "execution_count": 52,
   "metadata": {},
   "outputs": [
    {
     "name": "stdout",
     "output_type": "stream",
     "text": [
      "[[703 404]\n",
      " [346 786]]\n"
     ]
    }
   ],
   "source": [
    "print(confusion_matrix(y_test,rfc_pred))"
   ]
  },
  {
   "cell_type": "markdown",
   "metadata": {},
   "source": [
    "## Visualize confusion matrix"
   ]
  },
  {
   "cell_type": "code",
   "execution_count": 53,
   "metadata": {},
   "outputs": [
    {
     "data": {
      "image/png": "[encoded data removed]",
      "text/plain": [
       "<Figure size 360x360 with 2 Axes>"
      ]
     },
     "metadata": {
      "needs_background": "light"
     },
     "output_type": "display_data"
    }
   ],
   "source": [
    "f, ax = plt.subplots(figsize =(5,5))\n",
    "sns.heatmap(confusion_matrix(y_test,rfc_pred),annot = True,linewidths=0.5,linecolor=\"red\",fmt = \".0f\",ax=ax)\n",
    "plt.xlabel(\"y_pred\")\n",
    "plt.ylabel(\"y_true\")\n",
    "plt.show()"
   ]
  },
  {
   "cell_type": "code",
   "execution_count": 54,
   "metadata": {},
   "outputs": [
    {
     "data": {
      "text/plain": [
       "array([[0.24995267, 0.75004733],\n",
       "       [0.77230287, 0.22769713],\n",
       "       [0.72449469, 0.27550531],\n",
       "       ...,\n",
       "       [0.05      , 0.95      ],\n",
       "       [0.47076726, 0.52923274],\n",
       "       [0.06      , 0.94      ]])"
      ]
     },
     "execution_count": 54,
     "metadata": {},
     "output_type": "execute_result"
    }
   ],
   "source": [
    "rfc.predict_proba(x_test)"
   ]
  },
  {
   "cell_type": "code",
   "execution_count": 55,
   "metadata": {},
   "outputs": [
    {
     "name": "stdout",
     "output_type": "stream",
     "text": [
      "              precision    recall  f1-score   support\n",
      "\n",
      "           0       0.67      0.64      0.65      1107\n",
      "           1       0.66      0.69      0.68      1132\n",
      "\n",
      "    accuracy                           0.67      2239\n",
      "   macro avg       0.67      0.66      0.66      2239\n",
      "weighted avg       0.67      0.67      0.66      2239\n",
      "\n"
     ]
    }
   ],
   "source": [
    "print(classification_report(y_test,rfc_pred))"
   ]
  },
  {
   "cell_type": "markdown",
   "metadata": {},
   "source": []
  },
  {
   "cell_type": "markdown",
   "metadata": {},
   "source": [
    "# Conclusion: \n",
    "### - This report aimed to analyze different algorithms and meta-attributes for the gender classification problem on Twitter.\n",
    "### - The main advantage of our gender-classification methods is that they achieve good accuracy  of 80% results.\n",
    "### - In the future, we intend to apply additional profile and tweet characteristics, such as the content of tweets, for gender classification. \n",
    "### - We also plan to investigate combinations of characteristics in order to improve our prediction accuracy even  further."
   ]
  },
  {
   "cell_type": "raw",
   "metadata": {},
   "source": []
  }
 ],
 "metadata": {
  "kernelspec": {
   "display_name": "Python 3",
   "language": "python",
   "name": "python3"
  },
  "language_info": {
   "codemirror_mode": {
    "name": "ipython",
    "version": 3
   },
   "file_extension": ".py",
   "mimetype": "text/x-python",
   "name": "python",
   "nbconvert_exporter": "python",
   "pygments_lexer": "ipython3",
   "version": "3.7.4"
  }
 },
 "nbformat": 4,
 "nbformat_minor": 4
}
